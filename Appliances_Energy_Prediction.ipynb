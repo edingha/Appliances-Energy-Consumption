{
 "cells": [
  {
   "cell_type": "markdown",
   "metadata": {},
   "source": [
    "# Appliance Energy prediction"
   ]
  },
  {
   "cell_type": "markdown",
   "metadata": {},
   "source": [
    "Appliances energy consumption will paly a major role in understanding electrical energy demand. \n",
    "Appliances, such as televisions and consumer electronics operating in standby were attributed to a 10.2% increase in the electricity consumption. \n",
    "Thus, prediction models of electrical energy consumption in buildings can be use-ful for a number of applications: \n",
    "     To determine adequate sizing of photovoltaics and energy storage to diminish power flow into the grid\n",
    "     To detect abnormal energy use patterns \n",
    "     To be part of an energy management system for load control\n"
   ]
  },
  {
   "cell_type": "raw",
   "metadata": {},
   "source": [
    "#DataSet \n",
    "https://archive.ics.uci.edu/ml/datasets/Appliances+energy+prediction"
   ]
  },
  {
   "cell_type": "code",
   "execution_count": 1,
   "metadata": {
    "collapsed": false
   },
   "outputs": [
    {
     "name": "stderr",
     "output_type": "stream",
     "text": [
      "/home/dinesh/anaconda3/lib/python3.6/site-packages/sklearn/cross_validation.py:41: DeprecationWarning: This module was deprecated in version 0.18 in favor of the model_selection module into which all the refactored classes and functions are moved. Also note that the interface of the new CV iterators are different from that of this module. This module will be removed in 0.20.\n",
      "  \"This module will be removed in 0.20.\", DeprecationWarning)\n",
      "/home/dinesh/anaconda3/lib/python3.6/site-packages/sklearn/grid_search.py:42: DeprecationWarning: This module was deprecated in version 0.18 in favor of the model_selection module into which all the refactored classes and functions are moved. This module will be removed in 0.20.\n",
      "  DeprecationWarning)\n"
     ]
    }
   ],
   "source": [
    "#Loading Libraries\n",
    "import time\n",
    "import random\n",
    "import datetime\n",
    "import pandas as pd\n",
    "import matplotlib.pyplot as plt\n",
    "import statistics\n",
    "import numpy as np\n",
    "from scipy import stats\n",
    "from sklearn.grid_search import GridSearchCV\n",
    "from sklearn.linear_model import RANSACRegressor, LinearRegression,TheilSenRegressor\n",
    "\n",
    "from sklearn.metrics import explained_variance_score, mean_absolute_error,mean_squared_error, median_absolute_error, r2_score"
   ]
  },
  {
   "cell_type": "code",
   "execution_count": 2,
   "metadata": {
    "collapsed": true
   },
   "outputs": [],
   "source": [
    "\n",
    "from sklearn.svm import SVR\n",
    "from sklearn.linear_model import Ridge,Lasso,ElasticNet,BayesianRidge\n",
    "from sklearn.ensemble import GradientBoostingRegressor\n",
    "from sklearn.cross_validation import train_test_split\n",
    "from sklearn.pipeline import Pipeline\n",
    "from sklearn.preprocessing import PolynomialFeatures\n",
    "from sklearn.cross_validation import cross_val_score\n",
    "import seaborn as sns\n",
    "from IPython.display import Image\n",
    "%matplotlib inline"
   ]
  },
  {
   "cell_type": "code",
   "execution_count": 3,
   "metadata": {
    "collapsed": true
   },
   "outputs": [],
   "source": [
    "#Loading dataset\n",
    "df=pd.read_csv(\"energydata_complete.csv\")"
   ]
  },
  {
   "cell_type": "code",
   "execution_count": 4,
   "metadata": {
    "collapsed": false
   },
   "outputs": [
    {
     "data": {
      "text/html": [
       "<div>\n",
       "<style>\n",
       "    .dataframe thead tr:only-child th {\n",
       "        text-align: right;\n",
       "    }\n",
       "\n",
       "    .dataframe thead th {\n",
       "        text-align: left;\n",
       "    }\n",
       "\n",
       "    .dataframe tbody tr th {\n",
       "        vertical-align: top;\n",
       "    }\n",
       "</style>\n",
       "<table border=\"1\" class=\"dataframe\">\n",
       "  <thead>\n",
       "    <tr style=\"text-align: right;\">\n",
       "      <th></th>\n",
       "      <th>Appliances</th>\n",
       "      <th>lights</th>\n",
       "      <th>T1</th>\n",
       "      <th>RH_1</th>\n",
       "      <th>T2</th>\n",
       "      <th>RH_2</th>\n",
       "      <th>T3</th>\n",
       "      <th>RH_3</th>\n",
       "      <th>T4</th>\n",
       "      <th>RH_4</th>\n",
       "      <th>...</th>\n",
       "      <th>T9</th>\n",
       "      <th>RH_9</th>\n",
       "      <th>T_out</th>\n",
       "      <th>Press_mm_hg</th>\n",
       "      <th>RH_out</th>\n",
       "      <th>Windspeed</th>\n",
       "      <th>Visibility</th>\n",
       "      <th>Tdewpoint</th>\n",
       "      <th>rv1</th>\n",
       "      <th>rv2</th>\n",
       "    </tr>\n",
       "  </thead>\n",
       "  <tbody>\n",
       "    <tr>\n",
       "      <th>count</th>\n",
       "      <td>19735.000000</td>\n",
       "      <td>19735.000000</td>\n",
       "      <td>19735.000000</td>\n",
       "      <td>19735.000000</td>\n",
       "      <td>19735.000000</td>\n",
       "      <td>19735.000000</td>\n",
       "      <td>19735.000000</td>\n",
       "      <td>19735.000000</td>\n",
       "      <td>19735.000000</td>\n",
       "      <td>19735.000000</td>\n",
       "      <td>...</td>\n",
       "      <td>19735.000000</td>\n",
       "      <td>19735.000000</td>\n",
       "      <td>19735.000000</td>\n",
       "      <td>19735.000000</td>\n",
       "      <td>19735.000000</td>\n",
       "      <td>19735.000000</td>\n",
       "      <td>19735.000000</td>\n",
       "      <td>19735.000000</td>\n",
       "      <td>19735.000000</td>\n",
       "      <td>19735.000000</td>\n",
       "    </tr>\n",
       "    <tr>\n",
       "      <th>mean</th>\n",
       "      <td>97.694958</td>\n",
       "      <td>3.801875</td>\n",
       "      <td>21.686571</td>\n",
       "      <td>40.259739</td>\n",
       "      <td>20.341219</td>\n",
       "      <td>40.420420</td>\n",
       "      <td>22.267611</td>\n",
       "      <td>39.242500</td>\n",
       "      <td>20.855335</td>\n",
       "      <td>39.026904</td>\n",
       "      <td>...</td>\n",
       "      <td>19.485828</td>\n",
       "      <td>41.552401</td>\n",
       "      <td>7.411665</td>\n",
       "      <td>755.522602</td>\n",
       "      <td>79.750418</td>\n",
       "      <td>4.039752</td>\n",
       "      <td>38.330834</td>\n",
       "      <td>3.760707</td>\n",
       "      <td>24.988033</td>\n",
       "      <td>24.988033</td>\n",
       "    </tr>\n",
       "    <tr>\n",
       "      <th>std</th>\n",
       "      <td>102.524891</td>\n",
       "      <td>7.935988</td>\n",
       "      <td>1.606066</td>\n",
       "      <td>3.979299</td>\n",
       "      <td>2.192974</td>\n",
       "      <td>4.069813</td>\n",
       "      <td>2.006111</td>\n",
       "      <td>3.254576</td>\n",
       "      <td>2.042884</td>\n",
       "      <td>4.341321</td>\n",
       "      <td>...</td>\n",
       "      <td>2.014712</td>\n",
       "      <td>4.151497</td>\n",
       "      <td>5.317409</td>\n",
       "      <td>7.399441</td>\n",
       "      <td>14.901088</td>\n",
       "      <td>2.451221</td>\n",
       "      <td>11.794719</td>\n",
       "      <td>4.194648</td>\n",
       "      <td>14.496634</td>\n",
       "      <td>14.496634</td>\n",
       "    </tr>\n",
       "    <tr>\n",
       "      <th>min</th>\n",
       "      <td>10.000000</td>\n",
       "      <td>0.000000</td>\n",
       "      <td>16.790000</td>\n",
       "      <td>27.023333</td>\n",
       "      <td>16.100000</td>\n",
       "      <td>20.463333</td>\n",
       "      <td>17.200000</td>\n",
       "      <td>28.766667</td>\n",
       "      <td>15.100000</td>\n",
       "      <td>27.660000</td>\n",
       "      <td>...</td>\n",
       "      <td>14.890000</td>\n",
       "      <td>29.166667</td>\n",
       "      <td>-5.000000</td>\n",
       "      <td>729.300000</td>\n",
       "      <td>24.000000</td>\n",
       "      <td>0.000000</td>\n",
       "      <td>1.000000</td>\n",
       "      <td>-6.600000</td>\n",
       "      <td>0.005322</td>\n",
       "      <td>0.005322</td>\n",
       "    </tr>\n",
       "    <tr>\n",
       "      <th>25%</th>\n",
       "      <td>50.000000</td>\n",
       "      <td>0.000000</td>\n",
       "      <td>20.760000</td>\n",
       "      <td>37.333333</td>\n",
       "      <td>18.790000</td>\n",
       "      <td>37.900000</td>\n",
       "      <td>20.790000</td>\n",
       "      <td>36.900000</td>\n",
       "      <td>19.530000</td>\n",
       "      <td>35.530000</td>\n",
       "      <td>...</td>\n",
       "      <td>18.000000</td>\n",
       "      <td>38.500000</td>\n",
       "      <td>3.666667</td>\n",
       "      <td>750.933333</td>\n",
       "      <td>70.333333</td>\n",
       "      <td>2.000000</td>\n",
       "      <td>29.000000</td>\n",
       "      <td>0.900000</td>\n",
       "      <td>12.497889</td>\n",
       "      <td>12.497889</td>\n",
       "    </tr>\n",
       "    <tr>\n",
       "      <th>50%</th>\n",
       "      <td>60.000000</td>\n",
       "      <td>0.000000</td>\n",
       "      <td>21.600000</td>\n",
       "      <td>39.656667</td>\n",
       "      <td>20.000000</td>\n",
       "      <td>40.500000</td>\n",
       "      <td>22.100000</td>\n",
       "      <td>38.530000</td>\n",
       "      <td>20.666667</td>\n",
       "      <td>38.400000</td>\n",
       "      <td>...</td>\n",
       "      <td>19.390000</td>\n",
       "      <td>40.900000</td>\n",
       "      <td>6.916667</td>\n",
       "      <td>756.100000</td>\n",
       "      <td>83.666667</td>\n",
       "      <td>3.666667</td>\n",
       "      <td>40.000000</td>\n",
       "      <td>3.433333</td>\n",
       "      <td>24.897653</td>\n",
       "      <td>24.897653</td>\n",
       "    </tr>\n",
       "    <tr>\n",
       "      <th>75%</th>\n",
       "      <td>100.000000</td>\n",
       "      <td>0.000000</td>\n",
       "      <td>22.600000</td>\n",
       "      <td>43.066667</td>\n",
       "      <td>21.500000</td>\n",
       "      <td>43.260000</td>\n",
       "      <td>23.290000</td>\n",
       "      <td>41.760000</td>\n",
       "      <td>22.100000</td>\n",
       "      <td>42.156667</td>\n",
       "      <td>...</td>\n",
       "      <td>20.600000</td>\n",
       "      <td>44.338095</td>\n",
       "      <td>10.408333</td>\n",
       "      <td>760.933333</td>\n",
       "      <td>91.666667</td>\n",
       "      <td>5.500000</td>\n",
       "      <td>40.000000</td>\n",
       "      <td>6.566667</td>\n",
       "      <td>37.583769</td>\n",
       "      <td>37.583769</td>\n",
       "    </tr>\n",
       "    <tr>\n",
       "      <th>max</th>\n",
       "      <td>1080.000000</td>\n",
       "      <td>70.000000</td>\n",
       "      <td>26.260000</td>\n",
       "      <td>63.360000</td>\n",
       "      <td>29.856667</td>\n",
       "      <td>56.026667</td>\n",
       "      <td>29.236000</td>\n",
       "      <td>50.163333</td>\n",
       "      <td>26.200000</td>\n",
       "      <td>51.090000</td>\n",
       "      <td>...</td>\n",
       "      <td>24.500000</td>\n",
       "      <td>53.326667</td>\n",
       "      <td>26.100000</td>\n",
       "      <td>772.300000</td>\n",
       "      <td>100.000000</td>\n",
       "      <td>14.000000</td>\n",
       "      <td>66.000000</td>\n",
       "      <td>15.500000</td>\n",
       "      <td>49.996530</td>\n",
       "      <td>49.996530</td>\n",
       "    </tr>\n",
       "  </tbody>\n",
       "</table>\n",
       "<p>8 rows × 28 columns</p>\n",
       "</div>"
      ],
      "text/plain": [
       "         Appliances        lights            T1          RH_1            T2  \\\n",
       "count  19735.000000  19735.000000  19735.000000  19735.000000  19735.000000   \n",
       "mean      97.694958      3.801875     21.686571     40.259739     20.341219   \n",
       "std      102.524891      7.935988      1.606066      3.979299      2.192974   \n",
       "min       10.000000      0.000000     16.790000     27.023333     16.100000   \n",
       "25%       50.000000      0.000000     20.760000     37.333333     18.790000   \n",
       "50%       60.000000      0.000000     21.600000     39.656667     20.000000   \n",
       "75%      100.000000      0.000000     22.600000     43.066667     21.500000   \n",
       "max     1080.000000     70.000000     26.260000     63.360000     29.856667   \n",
       "\n",
       "               RH_2            T3          RH_3            T4          RH_4  \\\n",
       "count  19735.000000  19735.000000  19735.000000  19735.000000  19735.000000   \n",
       "mean      40.420420     22.267611     39.242500     20.855335     39.026904   \n",
       "std        4.069813      2.006111      3.254576      2.042884      4.341321   \n",
       "min       20.463333     17.200000     28.766667     15.100000     27.660000   \n",
       "25%       37.900000     20.790000     36.900000     19.530000     35.530000   \n",
       "50%       40.500000     22.100000     38.530000     20.666667     38.400000   \n",
       "75%       43.260000     23.290000     41.760000     22.100000     42.156667   \n",
       "max       56.026667     29.236000     50.163333     26.200000     51.090000   \n",
       "\n",
       "           ...                 T9          RH_9         T_out   Press_mm_hg  \\\n",
       "count      ...       19735.000000  19735.000000  19735.000000  19735.000000   \n",
       "mean       ...          19.485828     41.552401      7.411665    755.522602   \n",
       "std        ...           2.014712      4.151497      5.317409      7.399441   \n",
       "min        ...          14.890000     29.166667     -5.000000    729.300000   \n",
       "25%        ...          18.000000     38.500000      3.666667    750.933333   \n",
       "50%        ...          19.390000     40.900000      6.916667    756.100000   \n",
       "75%        ...          20.600000     44.338095     10.408333    760.933333   \n",
       "max        ...          24.500000     53.326667     26.100000    772.300000   \n",
       "\n",
       "             RH_out     Windspeed    Visibility     Tdewpoint           rv1  \\\n",
       "count  19735.000000  19735.000000  19735.000000  19735.000000  19735.000000   \n",
       "mean      79.750418      4.039752     38.330834      3.760707     24.988033   \n",
       "std       14.901088      2.451221     11.794719      4.194648     14.496634   \n",
       "min       24.000000      0.000000      1.000000     -6.600000      0.005322   \n",
       "25%       70.333333      2.000000     29.000000      0.900000     12.497889   \n",
       "50%       83.666667      3.666667     40.000000      3.433333     24.897653   \n",
       "75%       91.666667      5.500000     40.000000      6.566667     37.583769   \n",
       "max      100.000000     14.000000     66.000000     15.500000     49.996530   \n",
       "\n",
       "                rv2  \n",
       "count  19735.000000  \n",
       "mean      24.988033  \n",
       "std       14.496634  \n",
       "min        0.005322  \n",
       "25%       12.497889  \n",
       "50%       24.897653  \n",
       "75%       37.583769  \n",
       "max       49.996530  \n",
       "\n",
       "[8 rows x 28 columns]"
      ]
     },
     "execution_count": 4,
     "metadata": {},
     "output_type": "execute_result"
    }
   ],
   "source": [
    "df.describe()"
   ]
  },
  {
   "cell_type": "code",
   "execution_count": 5,
   "metadata": {
    "collapsed": false
   },
   "outputs": [
    {
     "data": {
      "text/html": [
       "<div>\n",
       "<style>\n",
       "    .dataframe thead tr:only-child th {\n",
       "        text-align: right;\n",
       "    }\n",
       "\n",
       "    .dataframe thead th {\n",
       "        text-align: left;\n",
       "    }\n",
       "\n",
       "    .dataframe tbody tr th {\n",
       "        vertical-align: top;\n",
       "    }\n",
       "</style>\n",
       "<table border=\"1\" class=\"dataframe\">\n",
       "  <thead>\n",
       "    <tr style=\"text-align: right;\">\n",
       "      <th></th>\n",
       "      <th>date</th>\n",
       "      <th>Appliances</th>\n",
       "      <th>lights</th>\n",
       "      <th>T1</th>\n",
       "      <th>RH_1</th>\n",
       "      <th>T2</th>\n",
       "      <th>RH_2</th>\n",
       "      <th>T3</th>\n",
       "      <th>RH_3</th>\n",
       "      <th>T4</th>\n",
       "      <th>...</th>\n",
       "      <th>T9</th>\n",
       "      <th>RH_9</th>\n",
       "      <th>T_out</th>\n",
       "      <th>Press_mm_hg</th>\n",
       "      <th>RH_out</th>\n",
       "      <th>Windspeed</th>\n",
       "      <th>Visibility</th>\n",
       "      <th>Tdewpoint</th>\n",
       "      <th>rv1</th>\n",
       "      <th>rv2</th>\n",
       "    </tr>\n",
       "  </thead>\n",
       "  <tbody>\n",
       "    <tr>\n",
       "      <th>0</th>\n",
       "      <td>2016-01-11 17:00:00</td>\n",
       "      <td>60</td>\n",
       "      <td>30</td>\n",
       "      <td>19.89</td>\n",
       "      <td>47.596667</td>\n",
       "      <td>19.2</td>\n",
       "      <td>44.790000</td>\n",
       "      <td>19.79</td>\n",
       "      <td>44.730000</td>\n",
       "      <td>19.000000</td>\n",
       "      <td>...</td>\n",
       "      <td>17.033333</td>\n",
       "      <td>45.53</td>\n",
       "      <td>6.600000</td>\n",
       "      <td>733.5</td>\n",
       "      <td>92.0</td>\n",
       "      <td>7.000000</td>\n",
       "      <td>63.000000</td>\n",
       "      <td>5.3</td>\n",
       "      <td>13.275433</td>\n",
       "      <td>13.275433</td>\n",
       "    </tr>\n",
       "    <tr>\n",
       "      <th>1</th>\n",
       "      <td>2016-01-11 17:10:00</td>\n",
       "      <td>60</td>\n",
       "      <td>30</td>\n",
       "      <td>19.89</td>\n",
       "      <td>46.693333</td>\n",
       "      <td>19.2</td>\n",
       "      <td>44.722500</td>\n",
       "      <td>19.79</td>\n",
       "      <td>44.790000</td>\n",
       "      <td>19.000000</td>\n",
       "      <td>...</td>\n",
       "      <td>17.066667</td>\n",
       "      <td>45.56</td>\n",
       "      <td>6.483333</td>\n",
       "      <td>733.6</td>\n",
       "      <td>92.0</td>\n",
       "      <td>6.666667</td>\n",
       "      <td>59.166667</td>\n",
       "      <td>5.2</td>\n",
       "      <td>18.606195</td>\n",
       "      <td>18.606195</td>\n",
       "    </tr>\n",
       "    <tr>\n",
       "      <th>2</th>\n",
       "      <td>2016-01-11 17:20:00</td>\n",
       "      <td>50</td>\n",
       "      <td>30</td>\n",
       "      <td>19.89</td>\n",
       "      <td>46.300000</td>\n",
       "      <td>19.2</td>\n",
       "      <td>44.626667</td>\n",
       "      <td>19.79</td>\n",
       "      <td>44.933333</td>\n",
       "      <td>18.926667</td>\n",
       "      <td>...</td>\n",
       "      <td>17.000000</td>\n",
       "      <td>45.50</td>\n",
       "      <td>6.366667</td>\n",
       "      <td>733.7</td>\n",
       "      <td>92.0</td>\n",
       "      <td>6.333333</td>\n",
       "      <td>55.333333</td>\n",
       "      <td>5.1</td>\n",
       "      <td>28.642668</td>\n",
       "      <td>28.642668</td>\n",
       "    </tr>\n",
       "    <tr>\n",
       "      <th>3</th>\n",
       "      <td>2016-01-11 17:30:00</td>\n",
       "      <td>50</td>\n",
       "      <td>40</td>\n",
       "      <td>19.89</td>\n",
       "      <td>46.066667</td>\n",
       "      <td>19.2</td>\n",
       "      <td>44.590000</td>\n",
       "      <td>19.79</td>\n",
       "      <td>45.000000</td>\n",
       "      <td>18.890000</td>\n",
       "      <td>...</td>\n",
       "      <td>17.000000</td>\n",
       "      <td>45.40</td>\n",
       "      <td>6.250000</td>\n",
       "      <td>733.8</td>\n",
       "      <td>92.0</td>\n",
       "      <td>6.000000</td>\n",
       "      <td>51.500000</td>\n",
       "      <td>5.0</td>\n",
       "      <td>45.410389</td>\n",
       "      <td>45.410389</td>\n",
       "    </tr>\n",
       "    <tr>\n",
       "      <th>4</th>\n",
       "      <td>2016-01-11 17:40:00</td>\n",
       "      <td>60</td>\n",
       "      <td>40</td>\n",
       "      <td>19.89</td>\n",
       "      <td>46.333333</td>\n",
       "      <td>19.2</td>\n",
       "      <td>44.530000</td>\n",
       "      <td>19.79</td>\n",
       "      <td>45.000000</td>\n",
       "      <td>18.890000</td>\n",
       "      <td>...</td>\n",
       "      <td>17.000000</td>\n",
       "      <td>45.40</td>\n",
       "      <td>6.133333</td>\n",
       "      <td>733.9</td>\n",
       "      <td>92.0</td>\n",
       "      <td>5.666667</td>\n",
       "      <td>47.666667</td>\n",
       "      <td>4.9</td>\n",
       "      <td>10.084097</td>\n",
       "      <td>10.084097</td>\n",
       "    </tr>\n",
       "  </tbody>\n",
       "</table>\n",
       "<p>5 rows × 29 columns</p>\n",
       "</div>"
      ],
      "text/plain": [
       "                  date  Appliances  lights     T1       RH_1    T2       RH_2  \\\n",
       "0  2016-01-11 17:00:00          60      30  19.89  47.596667  19.2  44.790000   \n",
       "1  2016-01-11 17:10:00          60      30  19.89  46.693333  19.2  44.722500   \n",
       "2  2016-01-11 17:20:00          50      30  19.89  46.300000  19.2  44.626667   \n",
       "3  2016-01-11 17:30:00          50      40  19.89  46.066667  19.2  44.590000   \n",
       "4  2016-01-11 17:40:00          60      40  19.89  46.333333  19.2  44.530000   \n",
       "\n",
       "      T3       RH_3         T4    ...             T9   RH_9     T_out  \\\n",
       "0  19.79  44.730000  19.000000    ...      17.033333  45.53  6.600000   \n",
       "1  19.79  44.790000  19.000000    ...      17.066667  45.56  6.483333   \n",
       "2  19.79  44.933333  18.926667    ...      17.000000  45.50  6.366667   \n",
       "3  19.79  45.000000  18.890000    ...      17.000000  45.40  6.250000   \n",
       "4  19.79  45.000000  18.890000    ...      17.000000  45.40  6.133333   \n",
       "\n",
       "   Press_mm_hg  RH_out  Windspeed  Visibility  Tdewpoint        rv1        rv2  \n",
       "0        733.5    92.0   7.000000   63.000000        5.3  13.275433  13.275433  \n",
       "1        733.6    92.0   6.666667   59.166667        5.2  18.606195  18.606195  \n",
       "2        733.7    92.0   6.333333   55.333333        5.1  28.642668  28.642668  \n",
       "3        733.8    92.0   6.000000   51.500000        5.0  45.410389  45.410389  \n",
       "4        733.9    92.0   5.666667   47.666667        4.9  10.084097  10.084097  \n",
       "\n",
       "[5 rows x 29 columns]"
      ]
     },
     "execution_count": 5,
     "metadata": {},
     "output_type": "execute_result"
    }
   ],
   "source": [
    "df.head()"
   ]
  },
  {
   "cell_type": "code",
   "execution_count": 6,
   "metadata": {
    "collapsed": false
   },
   "outputs": [
    {
     "data": {
      "text/plain": [
       "Index(['date', 'Appliances', 'lights', 'T1', 'RH_1', 'T2', 'RH_2', 'T3',\n",
       "       'RH_3', 'T4', 'RH_4', 'T5', 'RH_5', 'T6', 'RH_6', 'T7', 'RH_7', 'T8',\n",
       "       'RH_8', 'T9', 'RH_9', 'T_out', 'Press_mm_hg', 'RH_out', 'Windspeed',\n",
       "       'Visibility', 'Tdewpoint', 'rv1', 'rv2'],\n",
       "      dtype='object')"
      ]
     },
     "execution_count": 6,
     "metadata": {},
     "output_type": "execute_result"
    }
   ],
   "source": [
    "df.columns"
   ]
  },
  {
   "cell_type": "code",
   "execution_count": 7,
   "metadata": {
    "collapsed": true
   },
   "outputs": [],
   "source": [
    "#Building Regression models\n",
    "from sklearn.model_selection import train_test_split"
   ]
  },
  {
   "cell_type": "code",
   "execution_count": 8,
   "metadata": {
    "collapsed": true
   },
   "outputs": [],
   "source": [
    "y=df[\"Appliances\"]"
   ]
  },
  {
   "cell_type": "code",
   "execution_count": 9,
   "metadata": {
    "collapsed": true
   },
   "outputs": [],
   "source": [
    "X=df[['lights', 'T1', 'RH_1', 'T2', 'RH_2', 'T3',\n",
    "       'RH_3', 'T4', 'RH_4', 'T5', 'RH_5', 'T6', 'RH_6', 'T7', 'RH_7', 'T8',\n",
    "       'RH_8', 'T9', 'RH_9', 'T_out', 'Press_mm_hg', 'RH_out', 'Windspeed',\n",
    "       'Visibility', 'Tdewpoint', 'rv1', 'rv2']]"
   ]
  },
  {
   "cell_type": "code",
   "execution_count": 10,
   "metadata": {
    "collapsed": true
   },
   "outputs": [],
   "source": [
    "X_train, X_test, y_train, y_test = train_test_split(X, y, test_size=0.25, random_state=101)"
   ]
  },
  {
   "cell_type": "code",
   "execution_count": 11,
   "metadata": {
    "collapsed": true
   },
   "outputs": [],
   "source": [
    "from sklearn.linear_model import LinearRegression"
   ]
  },
  {
   "cell_type": "code",
   "execution_count": 12,
   "metadata": {
    "collapsed": false
   },
   "outputs": [
    {
     "data": {
      "text/plain": [
       "(4934, 27)"
      ]
     },
     "execution_count": 12,
     "metadata": {},
     "output_type": "execute_result"
    }
   ],
   "source": [
    "X_test.shape"
   ]
  },
  {
   "cell_type": "code",
   "execution_count": 13,
   "metadata": {
    "collapsed": true
   },
   "outputs": [],
   "source": [
    "lm=LinearRegression()"
   ]
  },
  {
   "cell_type": "code",
   "execution_count": 14,
   "metadata": {
    "collapsed": false
   },
   "outputs": [
    {
     "data": {
      "text/plain": [
       "LinearRegression(copy_X=True, fit_intercept=True, n_jobs=1, normalize=False)"
      ]
     },
     "execution_count": 14,
     "metadata": {},
     "output_type": "execute_result"
    }
   ],
   "source": [
    "lm.fit(X_train,y_train)"
   ]
  },
  {
   "cell_type": "code",
   "execution_count": 15,
   "metadata": {
    "collapsed": true
   },
   "outputs": [],
   "source": [
    "Coeffiecient=lm.coef_"
   ]
  },
  {
   "cell_type": "code",
   "execution_count": 16,
   "metadata": {
    "collapsed": false
   },
   "outputs": [
    {
     "name": "stdout",
     "output_type": "stream",
     "text": [
      "[  2.10479733  -0.46626347  14.61618426 -16.61145842 -12.85171277\n",
      "  24.1394585    4.68018159  -4.37044602  -0.06285119  -0.80260292\n",
      "   0.23703713   7.06106895   0.28364171   1.97657274  -1.62337008\n",
      "   8.16831723  -4.66678406 -14.30530192  -0.80937378 -10.28281641\n",
      "   0.16659669  -1.09713003   1.65345898   0.2054929    5.12842913\n",
      "  -0.03328512  -0.03328512]\n"
     ]
    }
   ],
   "source": [
    "print(Coeffiecient)"
   ]
  },
  {
   "cell_type": "code",
   "execution_count": 17,
   "metadata": {
    "collapsed": true
   },
   "outputs": [],
   "source": [
    "predictions = lm.predict( X_test)"
   ]
  },
  {
   "cell_type": "code",
   "execution_count": 18,
   "metadata": {
    "collapsed": false
   },
   "outputs": [
    {
     "data": {
      "text/plain": [
       "Text(0,0.5,'Predicted Y')"
      ]
     },
     "execution_count": 18,
     "metadata": {},
     "output_type": "execute_result"
    },
    {
     "data": {
      "image/png": "[encoded data removed]",
      "text/plain": [
       "<matplotlib.figure.Figure at 0x7f44555f59b0>"
      ]
     },
     "metadata": {},
     "output_type": "display_data"
    }
   ],
   "source": [
    "plt.scatter(y_test,predictions)\n",
    "plt.xlabel('Y Test')\n",
    "plt.ylabel('Predicted Y')"
   ]
  },
  {
   "cell_type": "code",
   "execution_count": 19,
   "metadata": {
    "collapsed": false
   },
   "outputs": [
    {
     "name": "stdout",
     "output_type": "stream",
     "text": [
      "MAE: 53.5455982386\n",
      "MSE: 8738.47187395\n",
      "RMSE: 93.479793934\n"
     ]
    }
   ],
   "source": [
    "# calculate these metrics by hand!\n",
    "from sklearn import metrics\n",
    "\n",
    "print('MAE:', metrics.mean_absolute_error(y_test, predictions))\n",
    "print('MSE:', metrics.mean_squared_error(y_test, predictions))\n",
    "print('RMSE:', np.sqrt(metrics.mean_squared_error(y_test, predictions)))"
   ]
  },
  {
   "cell_type": "code",
   "execution_count": 20,
   "metadata": {
    "collapsed": true
   },
   "outputs": [],
   "source": [
    "#Feature Engineering\n",
    "df['date']=pd.to_datetime(df['date'])\n"
   ]
  },
  {
   "cell_type": "code",
   "execution_count": 21,
   "metadata": {
    "collapsed": true
   },
   "outputs": [],
   "source": [
    "df['day_of_week'] = df['date'].dt.weekday_name\n",
    "df['seconds'] = df['date'].dt.hour*3600 + df['date'].dt.minute*60 + df['date'].dt.second"
   ]
  },
  {
   "cell_type": "code",
   "execution_count": 22,
   "metadata": {
    "collapsed": false
   },
   "outputs": [
    {
     "data": {
      "text/html": [
       "<div>\n",
       "<style>\n",
       "    .dataframe thead tr:only-child th {\n",
       "        text-align: right;\n",
       "    }\n",
       "\n",
       "    .dataframe thead th {\n",
       "        text-align: left;\n",
       "    }\n",
       "\n",
       "    .dataframe tbody tr th {\n",
       "        vertical-align: top;\n",
       "    }\n",
       "</style>\n",
       "<table border=\"1\" class=\"dataframe\">\n",
       "  <thead>\n",
       "    <tr style=\"text-align: right;\">\n",
       "      <th></th>\n",
       "      <th>date</th>\n",
       "      <th>Appliances</th>\n",
       "      <th>lights</th>\n",
       "      <th>T1</th>\n",
       "      <th>RH_1</th>\n",
       "      <th>T2</th>\n",
       "      <th>RH_2</th>\n",
       "      <th>T3</th>\n",
       "      <th>RH_3</th>\n",
       "      <th>T4</th>\n",
       "      <th>...</th>\n",
       "      <th>T_out</th>\n",
       "      <th>Press_mm_hg</th>\n",
       "      <th>RH_out</th>\n",
       "      <th>Windspeed</th>\n",
       "      <th>Visibility</th>\n",
       "      <th>Tdewpoint</th>\n",
       "      <th>rv1</th>\n",
       "      <th>rv2</th>\n",
       "      <th>day_of_week</th>\n",
       "      <th>seconds</th>\n",
       "    </tr>\n",
       "  </thead>\n",
       "  <tbody>\n",
       "    <tr>\n",
       "      <th>0</th>\n",
       "      <td>2016-01-11 17:00:00</td>\n",
       "      <td>60</td>\n",
       "      <td>30</td>\n",
       "      <td>19.89</td>\n",
       "      <td>47.596667</td>\n",
       "      <td>19.2</td>\n",
       "      <td>44.790000</td>\n",
       "      <td>19.79</td>\n",
       "      <td>44.730000</td>\n",
       "      <td>19.000000</td>\n",
       "      <td>...</td>\n",
       "      <td>6.600000</td>\n",
       "      <td>733.5</td>\n",
       "      <td>92.0</td>\n",
       "      <td>7.000000</td>\n",
       "      <td>63.000000</td>\n",
       "      <td>5.3</td>\n",
       "      <td>13.275433</td>\n",
       "      <td>13.275433</td>\n",
       "      <td>Monday</td>\n",
       "      <td>61200</td>\n",
       "    </tr>\n",
       "    <tr>\n",
       "      <th>1</th>\n",
       "      <td>2016-01-11 17:10:00</td>\n",
       "      <td>60</td>\n",
       "      <td>30</td>\n",
       "      <td>19.89</td>\n",
       "      <td>46.693333</td>\n",
       "      <td>19.2</td>\n",
       "      <td>44.722500</td>\n",
       "      <td>19.79</td>\n",
       "      <td>44.790000</td>\n",
       "      <td>19.000000</td>\n",
       "      <td>...</td>\n",
       "      <td>6.483333</td>\n",
       "      <td>733.6</td>\n",
       "      <td>92.0</td>\n",
       "      <td>6.666667</td>\n",
       "      <td>59.166667</td>\n",
       "      <td>5.2</td>\n",
       "      <td>18.606195</td>\n",
       "      <td>18.606195</td>\n",
       "      <td>Monday</td>\n",
       "      <td>61800</td>\n",
       "    </tr>\n",
       "    <tr>\n",
       "      <th>2</th>\n",
       "      <td>2016-01-11 17:20:00</td>\n",
       "      <td>50</td>\n",
       "      <td>30</td>\n",
       "      <td>19.89</td>\n",
       "      <td>46.300000</td>\n",
       "      <td>19.2</td>\n",
       "      <td>44.626667</td>\n",
       "      <td>19.79</td>\n",
       "      <td>44.933333</td>\n",
       "      <td>18.926667</td>\n",
       "      <td>...</td>\n",
       "      <td>6.366667</td>\n",
       "      <td>733.7</td>\n",
       "      <td>92.0</td>\n",
       "      <td>6.333333</td>\n",
       "      <td>55.333333</td>\n",
       "      <td>5.1</td>\n",
       "      <td>28.642668</td>\n",
       "      <td>28.642668</td>\n",
       "      <td>Monday</td>\n",
       "      <td>62400</td>\n",
       "    </tr>\n",
       "    <tr>\n",
       "      <th>3</th>\n",
       "      <td>2016-01-11 17:30:00</td>\n",
       "      <td>50</td>\n",
       "      <td>40</td>\n",
       "      <td>19.89</td>\n",
       "      <td>46.066667</td>\n",
       "      <td>19.2</td>\n",
       "      <td>44.590000</td>\n",
       "      <td>19.79</td>\n",
       "      <td>45.000000</td>\n",
       "      <td>18.890000</td>\n",
       "      <td>...</td>\n",
       "      <td>6.250000</td>\n",
       "      <td>733.8</td>\n",
       "      <td>92.0</td>\n",
       "      <td>6.000000</td>\n",
       "      <td>51.500000</td>\n",
       "      <td>5.0</td>\n",
       "      <td>45.410389</td>\n",
       "      <td>45.410389</td>\n",
       "      <td>Monday</td>\n",
       "      <td>63000</td>\n",
       "    </tr>\n",
       "    <tr>\n",
       "      <th>4</th>\n",
       "      <td>2016-01-11 17:40:00</td>\n",
       "      <td>60</td>\n",
       "      <td>40</td>\n",
       "      <td>19.89</td>\n",
       "      <td>46.333333</td>\n",
       "      <td>19.2</td>\n",
       "      <td>44.530000</td>\n",
       "      <td>19.79</td>\n",
       "      <td>45.000000</td>\n",
       "      <td>18.890000</td>\n",
       "      <td>...</td>\n",
       "      <td>6.133333</td>\n",
       "      <td>733.9</td>\n",
       "      <td>92.0</td>\n",
       "      <td>5.666667</td>\n",
       "      <td>47.666667</td>\n",
       "      <td>4.9</td>\n",
       "      <td>10.084097</td>\n",
       "      <td>10.084097</td>\n",
       "      <td>Monday</td>\n",
       "      <td>63600</td>\n",
       "    </tr>\n",
       "  </tbody>\n",
       "</table>\n",
       "<p>5 rows × 31 columns</p>\n",
       "</div>"
      ],
      "text/plain": [
       "                 date  Appliances  lights     T1       RH_1    T2       RH_2  \\\n",
       "0 2016-01-11 17:00:00          60      30  19.89  47.596667  19.2  44.790000   \n",
       "1 2016-01-11 17:10:00          60      30  19.89  46.693333  19.2  44.722500   \n",
       "2 2016-01-11 17:20:00          50      30  19.89  46.300000  19.2  44.626667   \n",
       "3 2016-01-11 17:30:00          50      40  19.89  46.066667  19.2  44.590000   \n",
       "4 2016-01-11 17:40:00          60      40  19.89  46.333333  19.2  44.530000   \n",
       "\n",
       "      T3       RH_3         T4   ...        T_out  Press_mm_hg  RH_out  \\\n",
       "0  19.79  44.730000  19.000000   ...     6.600000        733.5    92.0   \n",
       "1  19.79  44.790000  19.000000   ...     6.483333        733.6    92.0   \n",
       "2  19.79  44.933333  18.926667   ...     6.366667        733.7    92.0   \n",
       "3  19.79  45.000000  18.890000   ...     6.250000        733.8    92.0   \n",
       "4  19.79  45.000000  18.890000   ...     6.133333        733.9    92.0   \n",
       "\n",
       "   Windspeed  Visibility  Tdewpoint        rv1        rv2  day_of_week  \\\n",
       "0   7.000000   63.000000        5.3  13.275433  13.275433       Monday   \n",
       "1   6.666667   59.166667        5.2  18.606195  18.606195       Monday   \n",
       "2   6.333333   55.333333        5.1  28.642668  28.642668       Monday   \n",
       "3   6.000000   51.500000        5.0  45.410389  45.410389       Monday   \n",
       "4   5.666667   47.666667        4.9  10.084097  10.084097       Monday   \n",
       "\n",
       "   seconds  \n",
       "0    61200  \n",
       "1    61800  \n",
       "2    62400  \n",
       "3    63000  \n",
       "4    63600  \n",
       "\n",
       "[5 rows x 31 columns]"
      ]
     },
     "execution_count": 22,
     "metadata": {},
     "output_type": "execute_result"
    }
   ],
   "source": [
    "df.head()"
   ]
  },
  {
   "cell_type": "code",
   "execution_count": 23,
   "metadata": {
    "collapsed": true
   },
   "outputs": [],
   "source": [
    "df['week_status']=df['day_of_week']"
   ]
  },
  {
   "cell_type": "code",
   "execution_count": 24,
   "metadata": {
    "collapsed": true
   },
   "outputs": [],
   "source": [
    "week_mapping = {\"Monday\": \"Weekday\", \"Tuesday\": \"Weekday\", \"Wednesday\": \"Weekday\", \"Thursday\": \"Weekday\", \"Friday\": \"Weekday\",\"Saturday\": \"Weekend\", \"Sunday\": \"Weekend\"}\n",
    "for dataset in [df]:\n",
    "    dataset['week_status'] = dataset['week_status'].map(week_mapping)"
   ]
  },
  {
   "cell_type": "code",
   "execution_count": 25,
   "metadata": {
    "collapsed": true
   },
   "outputs": [],
   "source": [
    "dow = pd.get_dummies(df['day_of_week'],drop_first=True,prefix='dow')\n",
    "\n",
    "ws=pd.get_dummies(df['week_status'],drop_first=True,prefix='ws')\n"
   ]
  },
  {
   "cell_type": "code",
   "execution_count": 26,
   "metadata": {
    "collapsed": true
   },
   "outputs": [],
   "source": [
    "df.drop(['day_of_week','week_status'],axis=1,inplace=True)\n",
    "\n",
    "df = pd.concat([df,dow,ws],axis=1)\n"
   ]
  },
  {
   "cell_type": "code",
   "execution_count": 27,
   "metadata": {
    "collapsed": false
   },
   "outputs": [
    {
     "data": {
      "text/html": [
       "<div>\n",
       "<style>\n",
       "    .dataframe thead tr:only-child th {\n",
       "        text-align: right;\n",
       "    }\n",
       "\n",
       "    .dataframe thead th {\n",
       "        text-align: left;\n",
       "    }\n",
       "\n",
       "    .dataframe tbody tr th {\n",
       "        vertical-align: top;\n",
       "    }\n",
       "</style>\n",
       "<table border=\"1\" class=\"dataframe\">\n",
       "  <thead>\n",
       "    <tr style=\"text-align: right;\">\n",
       "      <th></th>\n",
       "      <th>date</th>\n",
       "      <th>Appliances</th>\n",
       "      <th>lights</th>\n",
       "      <th>T1</th>\n",
       "      <th>RH_1</th>\n",
       "      <th>T2</th>\n",
       "      <th>RH_2</th>\n",
       "      <th>T3</th>\n",
       "      <th>RH_3</th>\n",
       "      <th>T4</th>\n",
       "      <th>...</th>\n",
       "      <th>rv1</th>\n",
       "      <th>rv2</th>\n",
       "      <th>seconds</th>\n",
       "      <th>dow_Monday</th>\n",
       "      <th>dow_Saturday</th>\n",
       "      <th>dow_Sunday</th>\n",
       "      <th>dow_Thursday</th>\n",
       "      <th>dow_Tuesday</th>\n",
       "      <th>dow_Wednesday</th>\n",
       "      <th>ws_Weekend</th>\n",
       "    </tr>\n",
       "  </thead>\n",
       "  <tbody>\n",
       "    <tr>\n",
       "      <th>0</th>\n",
       "      <td>2016-01-11 17:00:00</td>\n",
       "      <td>60</td>\n",
       "      <td>30</td>\n",
       "      <td>19.89</td>\n",
       "      <td>47.596667</td>\n",
       "      <td>19.2</td>\n",
       "      <td>44.790000</td>\n",
       "      <td>19.79</td>\n",
       "      <td>44.730000</td>\n",
       "      <td>19.000000</td>\n",
       "      <td>...</td>\n",
       "      <td>13.275433</td>\n",
       "      <td>13.275433</td>\n",
       "      <td>61200</td>\n",
       "      <td>1</td>\n",
       "      <td>0</td>\n",
       "      <td>0</td>\n",
       "      <td>0</td>\n",
       "      <td>0</td>\n",
       "      <td>0</td>\n",
       "      <td>0</td>\n",
       "    </tr>\n",
       "    <tr>\n",
       "      <th>1</th>\n",
       "      <td>2016-01-11 17:10:00</td>\n",
       "      <td>60</td>\n",
       "      <td>30</td>\n",
       "      <td>19.89</td>\n",
       "      <td>46.693333</td>\n",
       "      <td>19.2</td>\n",
       "      <td>44.722500</td>\n",
       "      <td>19.79</td>\n",
       "      <td>44.790000</td>\n",
       "      <td>19.000000</td>\n",
       "      <td>...</td>\n",
       "      <td>18.606195</td>\n",
       "      <td>18.606195</td>\n",
       "      <td>61800</td>\n",
       "      <td>1</td>\n",
       "      <td>0</td>\n",
       "      <td>0</td>\n",
       "      <td>0</td>\n",
       "      <td>0</td>\n",
       "      <td>0</td>\n",
       "      <td>0</td>\n",
       "    </tr>\n",
       "    <tr>\n",
       "      <th>2</th>\n",
       "      <td>2016-01-11 17:20:00</td>\n",
       "      <td>50</td>\n",
       "      <td>30</td>\n",
       "      <td>19.89</td>\n",
       "      <td>46.300000</td>\n",
       "      <td>19.2</td>\n",
       "      <td>44.626667</td>\n",
       "      <td>19.79</td>\n",
       "      <td>44.933333</td>\n",
       "      <td>18.926667</td>\n",
       "      <td>...</td>\n",
       "      <td>28.642668</td>\n",
       "      <td>28.642668</td>\n",
       "      <td>62400</td>\n",
       "      <td>1</td>\n",
       "      <td>0</td>\n",
       "      <td>0</td>\n",
       "      <td>0</td>\n",
       "      <td>0</td>\n",
       "      <td>0</td>\n",
       "      <td>0</td>\n",
       "    </tr>\n",
       "    <tr>\n",
       "      <th>3</th>\n",
       "      <td>2016-01-11 17:30:00</td>\n",
       "      <td>50</td>\n",
       "      <td>40</td>\n",
       "      <td>19.89</td>\n",
       "      <td>46.066667</td>\n",
       "      <td>19.2</td>\n",
       "      <td>44.590000</td>\n",
       "      <td>19.79</td>\n",
       "      <td>45.000000</td>\n",
       "      <td>18.890000</td>\n",
       "      <td>...</td>\n",
       "      <td>45.410389</td>\n",
       "      <td>45.410389</td>\n",
       "      <td>63000</td>\n",
       "      <td>1</td>\n",
       "      <td>0</td>\n",
       "      <td>0</td>\n",
       "      <td>0</td>\n",
       "      <td>0</td>\n",
       "      <td>0</td>\n",
       "      <td>0</td>\n",
       "    </tr>\n",
       "    <tr>\n",
       "      <th>4</th>\n",
       "      <td>2016-01-11 17:40:00</td>\n",
       "      <td>60</td>\n",
       "      <td>40</td>\n",
       "      <td>19.89</td>\n",
       "      <td>46.333333</td>\n",
       "      <td>19.2</td>\n",
       "      <td>44.530000</td>\n",
       "      <td>19.79</td>\n",
       "      <td>45.000000</td>\n",
       "      <td>18.890000</td>\n",
       "      <td>...</td>\n",
       "      <td>10.084097</td>\n",
       "      <td>10.084097</td>\n",
       "      <td>63600</td>\n",
       "      <td>1</td>\n",
       "      <td>0</td>\n",
       "      <td>0</td>\n",
       "      <td>0</td>\n",
       "      <td>0</td>\n",
       "      <td>0</td>\n",
       "      <td>0</td>\n",
       "    </tr>\n",
       "  </tbody>\n",
       "</table>\n",
       "<p>5 rows × 37 columns</p>\n",
       "</div>"
      ],
      "text/plain": [
       "                 date  Appliances  lights     T1       RH_1    T2       RH_2  \\\n",
       "0 2016-01-11 17:00:00          60      30  19.89  47.596667  19.2  44.790000   \n",
       "1 2016-01-11 17:10:00          60      30  19.89  46.693333  19.2  44.722500   \n",
       "2 2016-01-11 17:20:00          50      30  19.89  46.300000  19.2  44.626667   \n",
       "3 2016-01-11 17:30:00          50      40  19.89  46.066667  19.2  44.590000   \n",
       "4 2016-01-11 17:40:00          60      40  19.89  46.333333  19.2  44.530000   \n",
       "\n",
       "      T3       RH_3         T4     ...            rv1        rv2  seconds  \\\n",
       "0  19.79  44.730000  19.000000     ...      13.275433  13.275433    61200   \n",
       "1  19.79  44.790000  19.000000     ...      18.606195  18.606195    61800   \n",
       "2  19.79  44.933333  18.926667     ...      28.642668  28.642668    62400   \n",
       "3  19.79  45.000000  18.890000     ...      45.410389  45.410389    63000   \n",
       "4  19.79  45.000000  18.890000     ...      10.084097  10.084097    63600   \n",
       "\n",
       "   dow_Monday  dow_Saturday  dow_Sunday  dow_Thursday  dow_Tuesday  \\\n",
       "0           1             0           0             0            0   \n",
       "1           1             0           0             0            0   \n",
       "2           1             0           0             0            0   \n",
       "3           1             0           0             0            0   \n",
       "4           1             0           0             0            0   \n",
       "\n",
       "   dow_Wednesday  ws_Weekend  \n",
       "0              0           0  \n",
       "1              0           0  \n",
       "2              0           0  \n",
       "3              0           0  \n",
       "4              0           0  \n",
       "\n",
       "[5 rows x 37 columns]"
      ]
     },
     "execution_count": 27,
     "metadata": {},
     "output_type": "execute_result"
    }
   ],
   "source": [
    "df.head()"
   ]
  },
  {
   "cell_type": "code",
   "execution_count": 28,
   "metadata": {
    "collapsed": false
   },
   "outputs": [
    {
     "data": {
      "text/plain": [
       "Index(['date', 'Appliances', 'lights', 'T1', 'RH_1', 'T2', 'RH_2', 'T3',\n",
       "       'RH_3', 'T4', 'RH_4', 'T5', 'RH_5', 'T6', 'RH_6', 'T7', 'RH_7', 'T8',\n",
       "       'RH_8', 'T9', 'RH_9', 'T_out', 'Press_mm_hg', 'RH_out', 'Windspeed',\n",
       "       'Visibility', 'Tdewpoint', 'rv1', 'rv2', 'seconds', 'dow_Monday',\n",
       "       'dow_Saturday', 'dow_Sunday', 'dow_Thursday', 'dow_Tuesday',\n",
       "       'dow_Wednesday', 'ws_Weekend'],\n",
       "      dtype='object')"
      ]
     },
     "execution_count": 28,
     "metadata": {},
     "output_type": "execute_result"
    }
   ],
   "source": [
    "df.columns"
   ]
  },
  {
   "cell_type": "code",
   "execution_count": 29,
   "metadata": {
    "collapsed": false
   },
   "outputs": [
    {
     "name": "stdout",
     "output_type": "stream",
     "text": [
      "R2 score: 0.172921\n"
     ]
    },
    {
     "data": {
      "image/png": "[encoded data removed]",
      "text/plain": [
       "<matplotlib.figure.Figure at 0x7f4454e03ba8>"
      ]
     },
     "metadata": {},
     "output_type": "display_data"
    }
   ],
   "source": [
    "#Ridge regression\n",
    "alphas = np.arange(0.1,5,0.1)\n",
    "model = Ridge()\n",
    "cv = GridSearchCV(estimator=model, param_grid=dict(alpha=alphas))\n",
    "y_pred = cv.fit(X_train, y_train).predict(X_test)\n",
    "plt.scatter(range(len(y_test)), y_test, color='black')\n",
    "plt.plot(y_pred, color='blue', linewidth=3)\n",
    "#print ('Features: %s'%str(features))\n",
    "print ('R2 score: %f'%r2_score(y_test, y_pred))\n",
    "#print ('Intercept: %f'%regr.intercept_)\n",
    "#print ('Coefficients: %s'%str(regr.coef_))"
   ]
  },
  {
   "cell_type": "code",
   "execution_count": 30,
   "metadata": {
    "collapsed": false
   },
   "outputs": [
    {
     "name": "stdout",
     "output_type": "stream",
     "text": [
      "MAE: 53.5448016311\n",
      "MSE: 8738.691613\n",
      "RMSE: 93.4809692558\n"
     ]
    }
   ],
   "source": [
    "print('MAE:', metrics.mean_absolute_error(y_test, y_pred))\n",
    "print('MSE:', metrics.mean_squared_error(y_test, y_pred))\n",
    "print('RMSE:', np.sqrt(metrics.mean_squared_error(y_test, y_pred)))"
   ]
  },
  {
   "cell_type": "code",
   "execution_count": 31,
   "metadata": {
    "collapsed": true
   },
   "outputs": [],
   "source": [
    "#Applying Randomforest regessor\n",
    "from sklearn.ensemble import RandomForestRegressor"
   ]
  },
  {
   "cell_type": "code",
   "execution_count": 32,
   "metadata": {
    "collapsed": false
   },
   "outputs": [
    {
     "data": {
      "text/plain": [
       "RandomForestRegressor(bootstrap=True, criterion='mse', max_depth=None,\n",
       "           max_features='auto', max_leaf_nodes=None,\n",
       "           min_impurity_decrease=0.0, min_impurity_split=None,\n",
       "           min_samples_leaf=1, min_samples_split=2,\n",
       "           min_weight_fraction_leaf=0.0, n_estimators=10, n_jobs=1,\n",
       "           oob_score=False, random_state=0, verbose=0, warm_start=False)"
      ]
     },
     "execution_count": 32,
     "metadata": {},
     "output_type": "execute_result"
    }
   ],
   "source": [
    "\n",
    "regressor = RandomForestRegressor(random_state=0)\n",
    "regressor.fit(X_train, y_train)"
   ]
  },
  {
   "cell_type": "code",
   "execution_count": 33,
   "metadata": {
    "collapsed": false
   },
   "outputs": [
    {
     "data": {
      "text/plain": [
       "0.45960057504211238"
      ]
     },
     "execution_count": 33,
     "metadata": {},
     "output_type": "execute_result"
    }
   ],
   "source": [
    "regressor.score(X_test, y_test)"
   ]
  },
  {
   "cell_type": "code",
   "execution_count": 34,
   "metadata": {
    "collapsed": true
   },
   "outputs": [],
   "source": [
    "y_pred = regressor.predict(X_test)"
   ]
  },
  {
   "cell_type": "code",
   "execution_count": 35,
   "metadata": {
    "collapsed": false
   },
   "outputs": [
    {
     "name": "stdout",
     "output_type": "stream",
     "text": [
      "MAE: 36.2413862991\n",
      "MSE: 5709.71402513\n",
      "RMSE: 75.5626496699\n"
     ]
    }
   ],
   "source": [
    "print('MAE:', metrics.mean_absolute_error(y_test, y_pred))\n",
    "print('MSE:', metrics.mean_squared_error(y_test, y_pred))\n",
    "print('RMSE:', np.sqrt(metrics.mean_squared_error(y_test, y_pred)))"
   ]
  },
  {
   "cell_type": "code",
   "execution_count": 36,
   "metadata": {
    "collapsed": false
   },
   "outputs": [
    {
     "data": {
      "image/png": "[encoded data removed]",
      "text/plain": [
       "<matplotlib.figure.Figure at 0x7f44545d5780>"
      ]
     },
     "metadata": {},
     "output_type": "display_data"
    }
   ],
   "source": [
    "plt.scatter(x=y_test, y=y_pred)\n",
    "plt.xlim([1.5,4])\n",
    "plt.ylim([1.5,4])\n",
    "plt.plot([1.5,4],[1.5,4])\n",
    "plt.show()"
   ]
  },
  {
   "cell_type": "code",
   "execution_count": 154,
   "metadata": {
    "collapsed": false
   },
   "outputs": [
    {
     "data": {
      "text/html": [
       "<div>\n",
       "<style>\n",
       "    .dataframe thead tr:only-child th {\n",
       "        text-align: right;\n",
       "    }\n",
       "\n",
       "    .dataframe thead th {\n",
       "        text-align: left;\n",
       "    }\n",
       "\n",
       "    .dataframe tbody tr th {\n",
       "        vertical-align: top;\n",
       "    }\n",
       "</style>\n",
       "<table border=\"1\" class=\"dataframe\">\n",
       "  <thead>\n",
       "    <tr style=\"text-align: right;\">\n",
       "      <th></th>\n",
       "      <th>seconds</th>\n",
       "      <th>RH_8</th>\n",
       "      <th>Press_mm_hg</th>\n",
       "      <th>RH_7</th>\n",
       "      <th>RH_1</th>\n",
       "      <th>RH_3</th>\n",
       "      <th>T3</th>\n",
       "      <th>RH_5</th>\n",
       "      <th>RH_2</th>\n",
       "      <th>RH_out</th>\n",
       "      <th>...</th>\n",
       "      <th>Visibility</th>\n",
       "      <th>rv1</th>\n",
       "      <th>rv2</th>\n",
       "      <th>dow_Monday</th>\n",
       "      <th>dow_Saturday</th>\n",
       "      <th>ws_Weekend</th>\n",
       "      <th>dow_Sunday</th>\n",
       "      <th>dow_Tuesday</th>\n",
       "      <th>dow_Wednesday</th>\n",
       "      <th>dow_Thursday</th>\n",
       "    </tr>\n",
       "  </thead>\n",
       "  <tbody>\n",
       "    <tr>\n",
       "      <th>values</th>\n",
       "      <td>0.084182</td>\n",
       "      <td>0.039706</td>\n",
       "      <td>0.039138</td>\n",
       "      <td>0.038737</td>\n",
       "      <td>0.038685</td>\n",
       "      <td>0.038166</td>\n",
       "      <td>0.038013</td>\n",
       "      <td>0.037919</td>\n",
       "      <td>0.037443</td>\n",
       "      <td>0.036628</td>\n",
       "      <td>...</td>\n",
       "      <td>0.020159</td>\n",
       "      <td>0.018308</td>\n",
       "      <td>0.018116</td>\n",
       "      <td>0.00525</td>\n",
       "      <td>0.003833</td>\n",
       "      <td>0.003522</td>\n",
       "      <td>0.00282</td>\n",
       "      <td>0.002769</td>\n",
       "      <td>0.002467</td>\n",
       "      <td>0.002187</td>\n",
       "    </tr>\n",
       "  </tbody>\n",
       "</table>\n",
       "<p>1 rows × 35 columns</p>\n",
       "</div>"
      ],
      "text/plain": [
       "         seconds      RH_8  Press_mm_hg      RH_7      RH_1      RH_3  \\\n",
       "values  0.084182  0.039706     0.039138  0.038737  0.038685  0.038166   \n",
       "\n",
       "              T3      RH_5      RH_2    RH_out      ...       Visibility  \\\n",
       "values  0.038013  0.037919  0.037443  0.036628      ...         0.020159   \n",
       "\n",
       "             rv1       rv2  dow_Monday  dow_Saturday  ws_Weekend  dow_Sunday  \\\n",
       "values  0.018308  0.018116     0.00525      0.003833    0.003522     0.00282   \n",
       "\n",
       "        dow_Tuesday  dow_Wednesday  dow_Thursday  \n",
       "values     0.002769       0.002467      0.002187  \n",
       "\n",
       "[1 rows x 35 columns]"
      ]
     },
     "execution_count": 154,
     "metadata": {},
     "output_type": "execute_result"
    }
   ],
   "source": [
    "#Interpretng Model results\n",
    "feature_import = pd.DataFrame(data=regressor.feature_importances_, index=X.columns.values, columns=['values'])\n",
    "feature_import.sort_values(['values'], ascending=False, inplace=True)\n",
    "feature_import.transpose()"
   ]
  },
  {
   "cell_type": "code",
   "execution_count": 156,
   "metadata": {
    "collapsed": false
   },
   "outputs": [
    {
     "data": {
      "image/png": "[encoded data removed]",
      "text/plain": [
       "<matplotlib.figure.Figure at 0x7f443aa8f208>"
      ]
     },
     "metadata": {},
     "output_type": "display_data"
    }
   ],
   "source": [
    "#Feature Importance\n",
    "feature_import.reset_index(level=0, inplace=True)\n",
    "sns.set_style('ticks')\n",
    "fig, ax = plt.subplots()\n",
    "\n",
    "# the size of A4 paper\n",
    "fig.set_size_inches(13.7, 8.27)\n",
    "sns.barplot(x='index', y='values', data=feature_import, palette='deep',saturation=.9)\n",
    "\n",
    "\n",
    "rotation = 90\n",
    "for i, ax in enumerate(fig.axes):   ## getting all axes of the fig object\n",
    "     ax.set_xticklabels(ax.get_xticklabels(), rotation = rotation)\n",
    "\n",
    "\n",
    "plt.show()\n",
    "\n"
   ]
  },
  {
   "cell_type": "code",
   "execution_count": 39,
   "metadata": {
    "collapsed": true
   },
   "outputs": [],
   "source": [
    "#Finding Hyper Parameters using gridsearch\n",
    "from sklearn.ensemble import RandomForestRegressor\n",
    "from sklearn.model_selection import GridSearchCV\n",
    "\n",
    "param_grid = {\"n_estimators\": [200, 500],\n",
    "    \"max_depth\": [3, None],\n",
    "    \"max_features\": [1, 3, 5, 10],\n",
    "    \"min_samples_split\": [2, 5, 10],\n",
    "    \"min_samples_leaf\": [1, 3, 10],\n",
    "    \"bootstrap\": [True, False]}\n"
   ]
  },
  {
   "cell_type": "code",
   "execution_count": 40,
   "metadata": {
    "collapsed": true
   },
   "outputs": [],
   "source": [
    "model = RandomForestRegressor(random_state=0)"
   ]
  },
  {
   "cell_type": "code",
   "execution_count": 41,
   "metadata": {
    "collapsed": false
   },
   "outputs": [
    {
     "data": {
      "text/plain": [
       "GridSearchCV(cv=None, error_score='raise',\n",
       "       estimator=RandomForestRegressor(bootstrap=True, criterion='mse', max_depth=None,\n",
       "           max_features='auto', max_leaf_nodes=None,\n",
       "           min_impurity_decrease=0.0, min_impurity_split=None,\n",
       "           min_samples_leaf=1, min_samples_split=2,\n",
       "           min_weight_fraction_leaf=0.0, n_estimators=10, n_jobs=1,\n",
       "           oob_score=False, random_state=0, verbose=0, warm_start=False),\n",
       "       fit_params=None, iid=True, n_jobs=-1,\n",
       "       param_grid={'n_estimators': [200, 500], 'max_depth': [3, None], 'max_features': [1, 3, 5, 10], 'min_samples_split': [2, 5, 10], 'min_samples_leaf': [1, 3, 10], 'bootstrap': [True, False]},\n",
       "       pre_dispatch='2*n_jobs', refit=True, return_train_score='warn',\n",
       "       scoring=None, verbose=0)"
      ]
     },
     "execution_count": 41,
     "metadata": {},
     "output_type": "execute_result"
    }
   ],
   "source": [
    "grid = GridSearchCV(estimator=model, param_grid=param_grid, n_jobs=-1)\n",
    "grid.fit(X_train, y_train)\n"
   ]
  },
  {
   "cell_type": "code",
   "execution_count": 42,
   "metadata": {
    "collapsed": false
   },
   "outputs": [
    {
     "name": "stdout",
     "output_type": "stream",
     "text": [
      "0.498940498054\n",
      "{'bootstrap': False, 'max_depth': None, 'max_features': 3, 'min_samples_leaf': 1, 'min_samples_split': 2, 'n_estimators': 500}\n"
     ]
    }
   ],
   "source": [
    "print(grid.best_score_)\n",
    "print(grid.best_params_)"
   ]
  },
  {
   "cell_type": "code",
   "execution_count": 43,
   "metadata": {
    "collapsed": false
   },
   "outputs": [
    {
     "name": "stdout",
     "output_type": "stream",
     "text": [
      "{'bootstrap': True, 'max_depth': 3, 'max_features': 1, 'min_samples_leaf': 1, 'min_samples_split': 2, 'n_estimators': 200} 0.0441 0.0023\n",
      "{'bootstrap': True, 'max_depth': 3, 'max_features': 1, 'min_samples_leaf': 1, 'min_samples_split': 2, 'n_estimators': 500} 0.0459 0.0028\n",
      "{'bootstrap': True, 'max_depth': 3, 'max_features': 1, 'min_samples_leaf': 1, 'min_samples_split': 5, 'n_estimators': 200} 0.0445 0.0025\n",
      "{'bootstrap': True, 'max_depth': 3, 'max_features': 1, 'min_samples_leaf': 1, 'min_samples_split': 5, 'n_estimators': 500} 0.0463 0.003\n",
      "{'bootstrap': True, 'max_depth': 3, 'max_features': 1, 'min_samples_leaf': 1, 'min_samples_split': 10, 'n_estimators': 200} 0.0444 0.0026\n",
      "{'bootstrap': True, 'max_depth': 3, 'max_features': 1, 'min_samples_leaf': 1, 'min_samples_split': 10, 'n_estimators': 500} 0.0463 0.0031\n",
      "{'bootstrap': True, 'max_depth': 3, 'max_features': 1, 'min_samples_leaf': 3, 'min_samples_split': 2, 'n_estimators': 200} 0.0444 0.0025\n",
      "{'bootstrap': True, 'max_depth': 3, 'max_features': 1, 'min_samples_leaf': 3, 'min_samples_split': 2, 'n_estimators': 500} 0.0463 0.0031\n",
      "{'bootstrap': True, 'max_depth': 3, 'max_features': 1, 'min_samples_leaf': 3, 'min_samples_split': 5, 'n_estimators': 200} 0.0444 0.0025\n",
      "{'bootstrap': True, 'max_depth': 3, 'max_features': 1, 'min_samples_leaf': 3, 'min_samples_split': 5, 'n_estimators': 500} 0.0463 0.0031\n",
      "{'bootstrap': True, 'max_depth': 3, 'max_features': 1, 'min_samples_leaf': 3, 'min_samples_split': 10, 'n_estimators': 200} 0.0442 0.0025\n",
      "{'bootstrap': True, 'max_depth': 3, 'max_features': 1, 'min_samples_leaf': 3, 'min_samples_split': 10, 'n_estimators': 500} 0.0462 0.003\n",
      "{'bootstrap': True, 'max_depth': 3, 'max_features': 1, 'min_samples_leaf': 10, 'min_samples_split': 2, 'n_estimators': 200} 0.0447 0.0028\n",
      "{'bootstrap': True, 'max_depth': 3, 'max_features': 1, 'min_samples_leaf': 10, 'min_samples_split': 2, 'n_estimators': 500} 0.0464 0.003\n",
      "{'bootstrap': True, 'max_depth': 3, 'max_features': 1, 'min_samples_leaf': 10, 'min_samples_split': 5, 'n_estimators': 200} 0.0447 0.0028\n",
      "{'bootstrap': True, 'max_depth': 3, 'max_features': 1, 'min_samples_leaf': 10, 'min_samples_split': 5, 'n_estimators': 500} 0.0464 0.003\n",
      "{'bootstrap': True, 'max_depth': 3, 'max_features': 1, 'min_samples_leaf': 10, 'min_samples_split': 10, 'n_estimators': 200} 0.0447 0.0028\n",
      "{'bootstrap': True, 'max_depth': 3, 'max_features': 1, 'min_samples_leaf': 10, 'min_samples_split': 10, 'n_estimators': 500} 0.0464 0.003\n",
      "{'bootstrap': True, 'max_depth': 3, 'max_features': 3, 'min_samples_leaf': 1, 'min_samples_split': 2, 'n_estimators': 200} 0.076 0.0043\n",
      "{'bootstrap': True, 'max_depth': 3, 'max_features': 3, 'min_samples_leaf': 1, 'min_samples_split': 2, 'n_estimators': 500} 0.0768 0.0052\n",
      "{'bootstrap': True, 'max_depth': 3, 'max_features': 3, 'min_samples_leaf': 1, 'min_samples_split': 5, 'n_estimators': 200} 0.0759 0.0043\n",
      "{'bootstrap': True, 'max_depth': 3, 'max_features': 3, 'min_samples_leaf': 1, 'min_samples_split': 5, 'n_estimators': 500} 0.0768 0.0052\n",
      "{'bootstrap': True, 'max_depth': 3, 'max_features': 3, 'min_samples_leaf': 1, 'min_samples_split': 10, 'n_estimators': 200} 0.0758 0.0042\n",
      "{'bootstrap': True, 'max_depth': 3, 'max_features': 3, 'min_samples_leaf': 1, 'min_samples_split': 10, 'n_estimators': 500} 0.0767 0.0052\n",
      "{'bootstrap': True, 'max_depth': 3, 'max_features': 3, 'min_samples_leaf': 3, 'min_samples_split': 2, 'n_estimators': 200} 0.0762 0.0044\n",
      "{'bootstrap': True, 'max_depth': 3, 'max_features': 3, 'min_samples_leaf': 3, 'min_samples_split': 2, 'n_estimators': 500} 0.0769 0.0051\n",
      "{'bootstrap': True, 'max_depth': 3, 'max_features': 3, 'min_samples_leaf': 3, 'min_samples_split': 5, 'n_estimators': 200} 0.0762 0.0044\n",
      "{'bootstrap': True, 'max_depth': 3, 'max_features': 3, 'min_samples_leaf': 3, 'min_samples_split': 5, 'n_estimators': 500} 0.0769 0.0051\n",
      "{'bootstrap': True, 'max_depth': 3, 'max_features': 3, 'min_samples_leaf': 3, 'min_samples_split': 10, 'n_estimators': 200} 0.0761 0.0044\n",
      "{'bootstrap': True, 'max_depth': 3, 'max_features': 3, 'min_samples_leaf': 3, 'min_samples_split': 10, 'n_estimators': 500} 0.077 0.0052\n",
      "{'bootstrap': True, 'max_depth': 3, 'max_features': 3, 'min_samples_leaf': 10, 'min_samples_split': 2, 'n_estimators': 200} 0.0769 0.0043\n",
      "{'bootstrap': True, 'max_depth': 3, 'max_features': 3, 'min_samples_leaf': 10, 'min_samples_split': 2, 'n_estimators': 500} 0.0778 0.0054\n",
      "{'bootstrap': True, 'max_depth': 3, 'max_features': 3, 'min_samples_leaf': 10, 'min_samples_split': 5, 'n_estimators': 200} 0.0769 0.0043\n",
      "{'bootstrap': True, 'max_depth': 3, 'max_features': 3, 'min_samples_leaf': 10, 'min_samples_split': 5, 'n_estimators': 500} 0.0778 0.0054\n",
      "{'bootstrap': True, 'max_depth': 3, 'max_features': 3, 'min_samples_leaf': 10, 'min_samples_split': 10, 'n_estimators': 200} 0.0769 0.0043\n",
      "{'bootstrap': True, 'max_depth': 3, 'max_features': 3, 'min_samples_leaf': 10, 'min_samples_split': 10, 'n_estimators': 500} 0.0778 0.0054\n",
      "{'bootstrap': True, 'max_depth': 3, 'max_features': 5, 'min_samples_leaf': 1, 'min_samples_split': 2, 'n_estimators': 200} 0.0913 0.0052\n",
      "{'bootstrap': True, 'max_depth': 3, 'max_features': 5, 'min_samples_leaf': 1, 'min_samples_split': 2, 'n_estimators': 500} 0.0906 0.0051\n",
      "{'bootstrap': True, 'max_depth': 3, 'max_features': 5, 'min_samples_leaf': 1, 'min_samples_split': 5, 'n_estimators': 200} 0.0913 0.0052\n",
      "{'bootstrap': True, 'max_depth': 3, 'max_features': 5, 'min_samples_leaf': 1, 'min_samples_split': 5, 'n_estimators': 500} 0.0905 0.0051\n",
      "{'bootstrap': True, 'max_depth': 3, 'max_features': 5, 'min_samples_leaf': 1, 'min_samples_split': 10, 'n_estimators': 200} 0.0913 0.0054\n",
      "{'bootstrap': True, 'max_depth': 3, 'max_features': 5, 'min_samples_leaf': 1, 'min_samples_split': 10, 'n_estimators': 500} 0.0905 0.0051\n",
      "{'bootstrap': True, 'max_depth': 3, 'max_features': 5, 'min_samples_leaf': 3, 'min_samples_split': 2, 'n_estimators': 200} 0.0917 0.0054\n",
      "{'bootstrap': True, 'max_depth': 3, 'max_features': 5, 'min_samples_leaf': 3, 'min_samples_split': 2, 'n_estimators': 500} 0.0908 0.005\n",
      "{'bootstrap': True, 'max_depth': 3, 'max_features': 5, 'min_samples_leaf': 3, 'min_samples_split': 5, 'n_estimators': 200} 0.0917 0.0054\n",
      "{'bootstrap': True, 'max_depth': 3, 'max_features': 5, 'min_samples_leaf': 3, 'min_samples_split': 5, 'n_estimators': 500} 0.0908 0.005\n",
      "{'bootstrap': True, 'max_depth': 3, 'max_features': 5, 'min_samples_leaf': 3, 'min_samples_split': 10, 'n_estimators': 200} 0.0918 0.0055\n",
      "{'bootstrap': True, 'max_depth': 3, 'max_features': 5, 'min_samples_leaf': 3, 'min_samples_split': 10, 'n_estimators': 500} 0.0909 0.0051\n",
      "{'bootstrap': True, 'max_depth': 3, 'max_features': 5, 'min_samples_leaf': 10, 'min_samples_split': 2, 'n_estimators': 200} 0.0924 0.0057\n",
      "{'bootstrap': True, 'max_depth': 3, 'max_features': 5, 'min_samples_leaf': 10, 'min_samples_split': 2, 'n_estimators': 500} 0.0917 0.0053\n",
      "{'bootstrap': True, 'max_depth': 3, 'max_features': 5, 'min_samples_leaf': 10, 'min_samples_split': 5, 'n_estimators': 200} 0.0924 0.0057\n",
      "{'bootstrap': True, 'max_depth': 3, 'max_features': 5, 'min_samples_leaf': 10, 'min_samples_split': 5, 'n_estimators': 500} 0.0917 0.0053\n",
      "{'bootstrap': True, 'max_depth': 3, 'max_features': 5, 'min_samples_leaf': 10, 'min_samples_split': 10, 'n_estimators': 200} 0.0924 0.0057\n",
      "{'bootstrap': True, 'max_depth': 3, 'max_features': 5, 'min_samples_leaf': 10, 'min_samples_split': 10, 'n_estimators': 500} 0.0917 0.0053\n",
      "{'bootstrap': True, 'max_depth': 3, 'max_features': 10, 'min_samples_leaf': 1, 'min_samples_split': 2, 'n_estimators': 200} 0.1045 0.0059\n",
      "{'bootstrap': True, 'max_depth': 3, 'max_features': 10, 'min_samples_leaf': 1, 'min_samples_split': 2, 'n_estimators': 500} 0.1043 0.0053\n",
      "{'bootstrap': True, 'max_depth': 3, 'max_features': 10, 'min_samples_leaf': 1, 'min_samples_split': 5, 'n_estimators': 200} 0.1044 0.0061\n",
      "{'bootstrap': True, 'max_depth': 3, 'max_features': 10, 'min_samples_leaf': 1, 'min_samples_split': 5, 'n_estimators': 500} 0.1043 0.0054\n",
      "{'bootstrap': True, 'max_depth': 3, 'max_features': 10, 'min_samples_leaf': 1, 'min_samples_split': 10, 'n_estimators': 200} 0.1044 0.0062\n",
      "{'bootstrap': True, 'max_depth': 3, 'max_features': 10, 'min_samples_leaf': 1, 'min_samples_split': 10, 'n_estimators': 500} 0.1043 0.0055\n",
      "{'bootstrap': True, 'max_depth': 3, 'max_features': 10, 'min_samples_leaf': 3, 'min_samples_split': 2, 'n_estimators': 200} 0.1053 0.0059\n",
      "{'bootstrap': True, 'max_depth': 3, 'max_features': 10, 'min_samples_leaf': 3, 'min_samples_split': 2, 'n_estimators': 500} 0.1052 0.0055\n",
      "{'bootstrap': True, 'max_depth': 3, 'max_features': 10, 'min_samples_leaf': 3, 'min_samples_split': 5, 'n_estimators': 200} 0.1053 0.0059\n",
      "{'bootstrap': True, 'max_depth': 3, 'max_features': 10, 'min_samples_leaf': 3, 'min_samples_split': 5, 'n_estimators': 500} 0.1052 0.0055\n",
      "{'bootstrap': True, 'max_depth': 3, 'max_features': 10, 'min_samples_leaf': 3, 'min_samples_split': 10, 'n_estimators': 200} 0.1052 0.006\n",
      "{'bootstrap': True, 'max_depth': 3, 'max_features': 10, 'min_samples_leaf': 3, 'min_samples_split': 10, 'n_estimators': 500} 0.1052 0.0055\n",
      "{'bootstrap': True, 'max_depth': 3, 'max_features': 10, 'min_samples_leaf': 10, 'min_samples_split': 2, 'n_estimators': 200} 0.1069 0.0062\n",
      "{'bootstrap': True, 'max_depth': 3, 'max_features': 10, 'min_samples_leaf': 10, 'min_samples_split': 2, 'n_estimators': 500} 0.1065 0.0058\n",
      "{'bootstrap': True, 'max_depth': 3, 'max_features': 10, 'min_samples_leaf': 10, 'min_samples_split': 5, 'n_estimators': 200} 0.1069 0.0062\n",
      "{'bootstrap': True, 'max_depth': 3, 'max_features': 10, 'min_samples_leaf': 10, 'min_samples_split': 5, 'n_estimators': 500} 0.1065 0.0058\n",
      "{'bootstrap': True, 'max_depth': 3, 'max_features': 10, 'min_samples_leaf': 10, 'min_samples_split': 10, 'n_estimators': 200} 0.1069 0.0062\n",
      "{'bootstrap': True, 'max_depth': 3, 'max_features': 10, 'min_samples_leaf': 10, 'min_samples_split': 10, 'n_estimators': 500} 0.1065 0.0058\n",
      "{'bootstrap': True, 'max_depth': None, 'max_features': 1, 'min_samples_leaf': 1, 'min_samples_split': 2, 'n_estimators': 200} 0.4376 0.0038\n",
      "{'bootstrap': True, 'max_depth': None, 'max_features': 1, 'min_samples_leaf': 1, 'min_samples_split': 2, 'n_estimators': 500} 0.4399 0.0049\n",
      "{'bootstrap': True, 'max_depth': None, 'max_features': 1, 'min_samples_leaf': 1, 'min_samples_split': 5, 'n_estimators': 200} 0.4124 0.0036\n",
      "{'bootstrap': True, 'max_depth': None, 'max_features': 1, 'min_samples_leaf': 1, 'min_samples_split': 5, 'n_estimators': 500} 0.4128 0.0043\n",
      "{'bootstrap': True, 'max_depth': None, 'max_features': 1, 'min_samples_leaf': 1, 'min_samples_split': 10, 'n_estimators': 200} 0.3777 0.0058\n",
      "{'bootstrap': True, 'max_depth': None, 'max_features': 1, 'min_samples_leaf': 1, 'min_samples_split': 10, 'n_estimators': 500} 0.3778 0.0067\n",
      "{'bootstrap': True, 'max_depth': None, 'max_features': 1, 'min_samples_leaf': 3, 'min_samples_split': 2, 'n_estimators': 200} 0.368 0.0082\n",
      "{'bootstrap': True, 'max_depth': None, 'max_features': 1, 'min_samples_leaf': 3, 'min_samples_split': 2, 'n_estimators': 500} 0.3687 0.0092\n",
      "{'bootstrap': True, 'max_depth': None, 'max_features': 1, 'min_samples_leaf': 3, 'min_samples_split': 5, 'n_estimators': 200} 0.368 0.0082\n",
      "{'bootstrap': True, 'max_depth': None, 'max_features': 1, 'min_samples_leaf': 3, 'min_samples_split': 5, 'n_estimators': 500} 0.3687 0.0092\n",
      "{'bootstrap': True, 'max_depth': None, 'max_features': 1, 'min_samples_leaf': 3, 'min_samples_split': 10, 'n_estimators': 200} 0.3514 0.0096\n",
      "{'bootstrap': True, 'max_depth': None, 'max_features': 1, 'min_samples_leaf': 3, 'min_samples_split': 10, 'n_estimators': 500} 0.3528 0.0095\n",
      "{'bootstrap': True, 'max_depth': None, 'max_features': 1, 'min_samples_leaf': 10, 'min_samples_split': 2, 'n_estimators': 200} 0.2756 0.0123\n",
      "{'bootstrap': True, 'max_depth': None, 'max_features': 1, 'min_samples_leaf': 10, 'min_samples_split': 2, 'n_estimators': 500} 0.2764 0.0121\n",
      "{'bootstrap': True, 'max_depth': None, 'max_features': 1, 'min_samples_leaf': 10, 'min_samples_split': 5, 'n_estimators': 200} 0.2756 0.0123\n",
      "{'bootstrap': True, 'max_depth': None, 'max_features': 1, 'min_samples_leaf': 10, 'min_samples_split': 5, 'n_estimators': 500} 0.2764 0.0121\n",
      "{'bootstrap': True, 'max_depth': None, 'max_features': 1, 'min_samples_leaf': 10, 'min_samples_split': 10, 'n_estimators': 200} 0.2756 0.0123\n",
      "{'bootstrap': True, 'max_depth': None, 'max_features': 1, 'min_samples_leaf': 10, 'min_samples_split': 10, 'n_estimators': 500} 0.2764 0.0121\n",
      "{'bootstrap': True, 'max_depth': None, 'max_features': 3, 'min_samples_leaf': 1, 'min_samples_split': 2, 'n_estimators': 200} 0.465 0.0105\n",
      "{'bootstrap': True, 'max_depth': None, 'max_features': 3, 'min_samples_leaf': 1, 'min_samples_split': 2, 'n_estimators': 500} 0.4669 0.0088\n",
      "{'bootstrap': True, 'max_depth': None, 'max_features': 3, 'min_samples_leaf': 1, 'min_samples_split': 5, 'n_estimators': 200} 0.4487 0.0057\n",
      "{'bootstrap': True, 'max_depth': None, 'max_features': 3, 'min_samples_leaf': 1, 'min_samples_split': 5, 'n_estimators': 500} 0.4506 0.0048\n",
      "{'bootstrap': True, 'max_depth': None, 'max_features': 3, 'min_samples_leaf': 1, 'min_samples_split': 10, 'n_estimators': 200} 0.4257 0.0034\n",
      "{'bootstrap': True, 'max_depth': None, 'max_features': 3, 'min_samples_leaf': 1, 'min_samples_split': 10, 'n_estimators': 500} 0.4256 0.0028\n",
      "{'bootstrap': True, 'max_depth': None, 'max_features': 3, 'min_samples_leaf': 3, 'min_samples_split': 2, 'n_estimators': 200} 0.4207 0.0041\n",
      "{'bootstrap': True, 'max_depth': None, 'max_features': 3, 'min_samples_leaf': 3, 'min_samples_split': 2, 'n_estimators': 500} 0.4208 0.0041\n",
      "{'bootstrap': True, 'max_depth': None, 'max_features': 3, 'min_samples_leaf': 3, 'min_samples_split': 5, 'n_estimators': 200} 0.4207 0.0041\n",
      "{'bootstrap': True, 'max_depth': None, 'max_features': 3, 'min_samples_leaf': 3, 'min_samples_split': 5, 'n_estimators': 500} 0.4208 0.0041\n",
      "{'bootstrap': True, 'max_depth': None, 'max_features': 3, 'min_samples_leaf': 3, 'min_samples_split': 10, 'n_estimators': 200} 0.4009 0.003\n",
      "{'bootstrap': True, 'max_depth': None, 'max_features': 3, 'min_samples_leaf': 3, 'min_samples_split': 10, 'n_estimators': 500} 0.4035 0.0036\n",
      "{'bootstrap': True, 'max_depth': None, 'max_features': 3, 'min_samples_leaf': 10, 'min_samples_split': 2, 'n_estimators': 200} 0.3357 0.0084\n",
      "{'bootstrap': True, 'max_depth': None, 'max_features': 3, 'min_samples_leaf': 10, 'min_samples_split': 2, 'n_estimators': 500} 0.3373 0.0089\n",
      "{'bootstrap': True, 'max_depth': None, 'max_features': 3, 'min_samples_leaf': 10, 'min_samples_split': 5, 'n_estimators': 200} 0.3357 0.0084\n",
      "{'bootstrap': True, 'max_depth': None, 'max_features': 3, 'min_samples_leaf': 10, 'min_samples_split': 5, 'n_estimators': 500} 0.3373 0.0089\n",
      "{'bootstrap': True, 'max_depth': None, 'max_features': 3, 'min_samples_leaf': 10, 'min_samples_split': 10, 'n_estimators': 200} 0.3357 0.0084\n",
      "{'bootstrap': True, 'max_depth': None, 'max_features': 3, 'min_samples_leaf': 10, 'min_samples_split': 10, 'n_estimators': 500} 0.3373 0.0089\n",
      "{'bootstrap': True, 'max_depth': None, 'max_features': 5, 'min_samples_leaf': 1, 'min_samples_split': 2, 'n_estimators': 200} 0.458 0.01\n",
      "{'bootstrap': True, 'max_depth': None, 'max_features': 5, 'min_samples_leaf': 1, 'min_samples_split': 2, 'n_estimators': 500} 0.4606 0.0098\n",
      "{'bootstrap': True, 'max_depth': None, 'max_features': 5, 'min_samples_leaf': 1, 'min_samples_split': 5, 'n_estimators': 200} 0.4452 0.0079\n",
      "{'bootstrap': True, 'max_depth': None, 'max_features': 5, 'min_samples_leaf': 1, 'min_samples_split': 5, 'n_estimators': 500} 0.4483 0.008\n",
      "{'bootstrap': True, 'max_depth': None, 'max_features': 5, 'min_samples_leaf': 1, 'min_samples_split': 10, 'n_estimators': 200} 0.4265 0.0038\n",
      "{'bootstrap': True, 'max_depth': None, 'max_features': 5, 'min_samples_leaf': 1, 'min_samples_split': 10, 'n_estimators': 500} 0.4276 0.0043\n",
      "{'bootstrap': True, 'max_depth': None, 'max_features': 5, 'min_samples_leaf': 3, 'min_samples_split': 2, 'n_estimators': 200} 0.4238 0.0029\n",
      "{'bootstrap': True, 'max_depth': None, 'max_features': 5, 'min_samples_leaf': 3, 'min_samples_split': 2, 'n_estimators': 500} 0.424 0.0011\n",
      "{'bootstrap': True, 'max_depth': None, 'max_features': 5, 'min_samples_leaf': 3, 'min_samples_split': 5, 'n_estimators': 200} 0.4238 0.0029\n",
      "{'bootstrap': True, 'max_depth': None, 'max_features': 5, 'min_samples_leaf': 3, 'min_samples_split': 5, 'n_estimators': 500} 0.424 0.0011\n",
      "{'bootstrap': True, 'max_depth': None, 'max_features': 5, 'min_samples_leaf': 3, 'min_samples_split': 10, 'n_estimators': 200} 0.4084 0.0035\n",
      "{'bootstrap': True, 'max_depth': None, 'max_features': 5, 'min_samples_leaf': 3, 'min_samples_split': 10, 'n_estimators': 500} 0.4095 0.002\n",
      "{'bootstrap': True, 'max_depth': None, 'max_features': 5, 'min_samples_leaf': 10, 'min_samples_split': 2, 'n_estimators': 200} 0.348 0.0082\n",
      "{'bootstrap': True, 'max_depth': None, 'max_features': 5, 'min_samples_leaf': 10, 'min_samples_split': 2, 'n_estimators': 500} 0.349 0.0087\n",
      "{'bootstrap': True, 'max_depth': None, 'max_features': 5, 'min_samples_leaf': 10, 'min_samples_split': 5, 'n_estimators': 200} 0.348 0.0082\n",
      "{'bootstrap': True, 'max_depth': None, 'max_features': 5, 'min_samples_leaf': 10, 'min_samples_split': 5, 'n_estimators': 500} 0.349 0.0087\n",
      "{'bootstrap': True, 'max_depth': None, 'max_features': 5, 'min_samples_leaf': 10, 'min_samples_split': 10, 'n_estimators': 200} 0.348 0.0082\n",
      "{'bootstrap': True, 'max_depth': None, 'max_features': 5, 'min_samples_leaf': 10, 'min_samples_split': 10, 'n_estimators': 500} 0.349 0.0087\n",
      "{'bootstrap': True, 'max_depth': None, 'max_features': 10, 'min_samples_leaf': 1, 'min_samples_split': 2, 'n_estimators': 200} 0.4466 0.0122\n",
      "{'bootstrap': True, 'max_depth': None, 'max_features': 10, 'min_samples_leaf': 1, 'min_samples_split': 2, 'n_estimators': 500} 0.4473 0.0122\n",
      "{'bootstrap': True, 'max_depth': None, 'max_features': 10, 'min_samples_leaf': 1, 'min_samples_split': 5, 'n_estimators': 200} 0.4376 0.0083\n",
      "{'bootstrap': True, 'max_depth': None, 'max_features': 10, 'min_samples_leaf': 1, 'min_samples_split': 5, 'n_estimators': 500} 0.4399 0.0082\n",
      "{'bootstrap': True, 'max_depth': None, 'max_features': 10, 'min_samples_leaf': 1, 'min_samples_split': 10, 'n_estimators': 200} 0.422 0.0092\n",
      "{'bootstrap': True, 'max_depth': None, 'max_features': 10, 'min_samples_leaf': 1, 'min_samples_split': 10, 'n_estimators': 500} 0.4224 0.0078\n",
      "{'bootstrap': True, 'max_depth': None, 'max_features': 10, 'min_samples_leaf': 3, 'min_samples_split': 2, 'n_estimators': 200} 0.4223 0.0007\n",
      "{'bootstrap': True, 'max_depth': None, 'max_features': 10, 'min_samples_leaf': 3, 'min_samples_split': 2, 'n_estimators': 500} 0.4235 0.0012\n",
      "{'bootstrap': True, 'max_depth': None, 'max_features': 10, 'min_samples_leaf': 3, 'min_samples_split': 5, 'n_estimators': 200} 0.4223 0.0007\n",
      "{'bootstrap': True, 'max_depth': None, 'max_features': 10, 'min_samples_leaf': 3, 'min_samples_split': 5, 'n_estimators': 500} 0.4235 0.0012\n",
      "{'bootstrap': True, 'max_depth': None, 'max_features': 10, 'min_samples_leaf': 3, 'min_samples_split': 10, 'n_estimators': 200} 0.4078 0.001\n",
      "{'bootstrap': True, 'max_depth': None, 'max_features': 10, 'min_samples_leaf': 3, 'min_samples_split': 10, 'n_estimators': 500} 0.4089 0.0016\n",
      "{'bootstrap': True, 'max_depth': None, 'max_features': 10, 'min_samples_leaf': 10, 'min_samples_split': 2, 'n_estimators': 200} 0.355 0.0073\n",
      "{'bootstrap': True, 'max_depth': None, 'max_features': 10, 'min_samples_leaf': 10, 'min_samples_split': 2, 'n_estimators': 500} 0.3561 0.0066\n",
      "{'bootstrap': True, 'max_depth': None, 'max_features': 10, 'min_samples_leaf': 10, 'min_samples_split': 5, 'n_estimators': 200} 0.355 0.0073\n",
      "{'bootstrap': True, 'max_depth': None, 'max_features': 10, 'min_samples_leaf': 10, 'min_samples_split': 5, 'n_estimators': 500} 0.3561 0.0066\n",
      "{'bootstrap': True, 'max_depth': None, 'max_features': 10, 'min_samples_leaf': 10, 'min_samples_split': 10, 'n_estimators': 200} 0.355 0.0073\n",
      "{'bootstrap': True, 'max_depth': None, 'max_features': 10, 'min_samples_leaf': 10, 'min_samples_split': 10, 'n_estimators': 500} 0.3561 0.0066\n",
      "{'bootstrap': False, 'max_depth': 3, 'max_features': 1, 'min_samples_leaf': 1, 'min_samples_split': 2, 'n_estimators': 200} 0.0438 0.0028\n",
      "{'bootstrap': False, 'max_depth': 3, 'max_features': 1, 'min_samples_leaf': 1, 'min_samples_split': 2, 'n_estimators': 500} 0.0453 0.0025\n",
      "{'bootstrap': False, 'max_depth': 3, 'max_features': 1, 'min_samples_leaf': 1, 'min_samples_split': 5, 'n_estimators': 200} 0.0436 0.0027\n",
      "{'bootstrap': False, 'max_depth': 3, 'max_features': 1, 'min_samples_leaf': 1, 'min_samples_split': 5, 'n_estimators': 500} 0.0454 0.0026\n",
      "{'bootstrap': False, 'max_depth': 3, 'max_features': 1, 'min_samples_leaf': 1, 'min_samples_split': 10, 'n_estimators': 200} 0.0435 0.0026\n",
      "{'bootstrap': False, 'max_depth': 3, 'max_features': 1, 'min_samples_leaf': 1, 'min_samples_split': 10, 'n_estimators': 500} 0.0455 0.0027\n",
      "{'bootstrap': False, 'max_depth': 3, 'max_features': 1, 'min_samples_leaf': 3, 'min_samples_split': 2, 'n_estimators': 200} 0.0438 0.0028\n",
      "{'bootstrap': False, 'max_depth': 3, 'max_features': 1, 'min_samples_leaf': 3, 'min_samples_split': 2, 'n_estimators': 500} 0.0455 0.0026\n",
      "{'bootstrap': False, 'max_depth': 3, 'max_features': 1, 'min_samples_leaf': 3, 'min_samples_split': 5, 'n_estimators': 200} 0.0438 0.0028\n",
      "{'bootstrap': False, 'max_depth': 3, 'max_features': 1, 'min_samples_leaf': 3, 'min_samples_split': 5, 'n_estimators': 500} 0.0455 0.0026\n",
      "{'bootstrap': False, 'max_depth': 3, 'max_features': 1, 'min_samples_leaf': 3, 'min_samples_split': 10, 'n_estimators': 200} 0.0436 0.0027\n",
      "{'bootstrap': False, 'max_depth': 3, 'max_features': 1, 'min_samples_leaf': 3, 'min_samples_split': 10, 'n_estimators': 500} 0.0456 0.0028\n",
      "{'bootstrap': False, 'max_depth': 3, 'max_features': 1, 'min_samples_leaf': 10, 'min_samples_split': 2, 'n_estimators': 200} 0.0436 0.0029\n",
      "{'bootstrap': False, 'max_depth': 3, 'max_features': 1, 'min_samples_leaf': 10, 'min_samples_split': 2, 'n_estimators': 500} 0.0457 0.003\n",
      "{'bootstrap': False, 'max_depth': 3, 'max_features': 1, 'min_samples_leaf': 10, 'min_samples_split': 5, 'n_estimators': 200} 0.0436 0.0029\n",
      "{'bootstrap': False, 'max_depth': 3, 'max_features': 1, 'min_samples_leaf': 10, 'min_samples_split': 5, 'n_estimators': 500} 0.0457 0.003\n",
      "{'bootstrap': False, 'max_depth': 3, 'max_features': 1, 'min_samples_leaf': 10, 'min_samples_split': 10, 'n_estimators': 200} 0.0436 0.0029\n",
      "{'bootstrap': False, 'max_depth': 3, 'max_features': 1, 'min_samples_leaf': 10, 'min_samples_split': 10, 'n_estimators': 500} 0.0457 0.003\n",
      "{'bootstrap': False, 'max_depth': 3, 'max_features': 3, 'min_samples_leaf': 1, 'min_samples_split': 2, 'n_estimators': 200} 0.0773 0.0049\n",
      "{'bootstrap': False, 'max_depth': 3, 'max_features': 3, 'min_samples_leaf': 1, 'min_samples_split': 2, 'n_estimators': 500} 0.0779 0.0051\n",
      "{'bootstrap': False, 'max_depth': 3, 'max_features': 3, 'min_samples_leaf': 1, 'min_samples_split': 5, 'n_estimators': 200} 0.077 0.0046\n",
      "{'bootstrap': False, 'max_depth': 3, 'max_features': 3, 'min_samples_leaf': 1, 'min_samples_split': 5, 'n_estimators': 500} 0.078 0.005\n",
      "{'bootstrap': False, 'max_depth': 3, 'max_features': 3, 'min_samples_leaf': 1, 'min_samples_split': 10, 'n_estimators': 200} 0.077 0.0047\n",
      "{'bootstrap': False, 'max_depth': 3, 'max_features': 3, 'min_samples_leaf': 1, 'min_samples_split': 10, 'n_estimators': 500} 0.078 0.005\n",
      "{'bootstrap': False, 'max_depth': 3, 'max_features': 3, 'min_samples_leaf': 3, 'min_samples_split': 2, 'n_estimators': 200} 0.0771 0.0046\n",
      "{'bootstrap': False, 'max_depth': 3, 'max_features': 3, 'min_samples_leaf': 3, 'min_samples_split': 2, 'n_estimators': 500} 0.0781 0.005\n",
      "{'bootstrap': False, 'max_depth': 3, 'max_features': 3, 'min_samples_leaf': 3, 'min_samples_split': 5, 'n_estimators': 200} 0.0771 0.0046\n",
      "{'bootstrap': False, 'max_depth': 3, 'max_features': 3, 'min_samples_leaf': 3, 'min_samples_split': 5, 'n_estimators': 500} 0.0781 0.005\n",
      "{'bootstrap': False, 'max_depth': 3, 'max_features': 3, 'min_samples_leaf': 3, 'min_samples_split': 10, 'n_estimators': 200} 0.0772 0.0047\n",
      "{'bootstrap': False, 'max_depth': 3, 'max_features': 3, 'min_samples_leaf': 3, 'min_samples_split': 10, 'n_estimators': 500} 0.0781 0.005\n",
      "{'bootstrap': False, 'max_depth': 3, 'max_features': 3, 'min_samples_leaf': 10, 'min_samples_split': 2, 'n_estimators': 200} 0.0778 0.0049\n",
      "{'bootstrap': False, 'max_depth': 3, 'max_features': 3, 'min_samples_leaf': 10, 'min_samples_split': 2, 'n_estimators': 500} 0.0787 0.0053\n",
      "{'bootstrap': False, 'max_depth': 3, 'max_features': 3, 'min_samples_leaf': 10, 'min_samples_split': 5, 'n_estimators': 200} 0.0778 0.0049\n",
      "{'bootstrap': False, 'max_depth': 3, 'max_features': 3, 'min_samples_leaf': 10, 'min_samples_split': 5, 'n_estimators': 500} 0.0787 0.0053\n",
      "{'bootstrap': False, 'max_depth': 3, 'max_features': 3, 'min_samples_leaf': 10, 'min_samples_split': 10, 'n_estimators': 200} 0.0778 0.0049\n",
      "{'bootstrap': False, 'max_depth': 3, 'max_features': 3, 'min_samples_leaf': 10, 'min_samples_split': 10, 'n_estimators': 500} 0.0787 0.0053\n",
      "{'bootstrap': False, 'max_depth': 3, 'max_features': 5, 'min_samples_leaf': 1, 'min_samples_split': 2, 'n_estimators': 200} 0.0928 0.005\n",
      "{'bootstrap': False, 'max_depth': 3, 'max_features': 5, 'min_samples_leaf': 1, 'min_samples_split': 2, 'n_estimators': 500} 0.0924 0.005\n",
      "{'bootstrap': False, 'max_depth': 3, 'max_features': 5, 'min_samples_leaf': 1, 'min_samples_split': 5, 'n_estimators': 200} 0.0928 0.005\n",
      "{'bootstrap': False, 'max_depth': 3, 'max_features': 5, 'min_samples_leaf': 1, 'min_samples_split': 5, 'n_estimators': 500} 0.0924 0.0051\n",
      "{'bootstrap': False, 'max_depth': 3, 'max_features': 5, 'min_samples_leaf': 1, 'min_samples_split': 10, 'n_estimators': 200} 0.0927 0.005\n",
      "{'bootstrap': False, 'max_depth': 3, 'max_features': 5, 'min_samples_leaf': 1, 'min_samples_split': 10, 'n_estimators': 500} 0.0924 0.0051\n",
      "{'bootstrap': False, 'max_depth': 3, 'max_features': 5, 'min_samples_leaf': 3, 'min_samples_split': 2, 'n_estimators': 200} 0.0928 0.0049\n",
      "{'bootstrap': False, 'max_depth': 3, 'max_features': 5, 'min_samples_leaf': 3, 'min_samples_split': 2, 'n_estimators': 500} 0.0924 0.0049\n",
      "{'bootstrap': False, 'max_depth': 3, 'max_features': 5, 'min_samples_leaf': 3, 'min_samples_split': 5, 'n_estimators': 200} 0.0928 0.0049\n",
      "{'bootstrap': False, 'max_depth': 3, 'max_features': 5, 'min_samples_leaf': 3, 'min_samples_split': 5, 'n_estimators': 500} 0.0924 0.0049\n",
      "{'bootstrap': False, 'max_depth': 3, 'max_features': 5, 'min_samples_leaf': 3, 'min_samples_split': 10, 'n_estimators': 200} 0.0928 0.0049\n",
      "{'bootstrap': False, 'max_depth': 3, 'max_features': 5, 'min_samples_leaf': 3, 'min_samples_split': 10, 'n_estimators': 500} 0.0925 0.0049\n",
      "{'bootstrap': False, 'max_depth': 3, 'max_features': 5, 'min_samples_leaf': 10, 'min_samples_split': 2, 'n_estimators': 200} 0.0933 0.0055\n",
      "{'bootstrap': False, 'max_depth': 3, 'max_features': 5, 'min_samples_leaf': 10, 'min_samples_split': 2, 'n_estimators': 500} 0.0928 0.0057\n",
      "{'bootstrap': False, 'max_depth': 3, 'max_features': 5, 'min_samples_leaf': 10, 'min_samples_split': 5, 'n_estimators': 200} 0.0933 0.0055\n",
      "{'bootstrap': False, 'max_depth': 3, 'max_features': 5, 'min_samples_leaf': 10, 'min_samples_split': 5, 'n_estimators': 500} 0.0928 0.0057\n",
      "{'bootstrap': False, 'max_depth': 3, 'max_features': 5, 'min_samples_leaf': 10, 'min_samples_split': 10, 'n_estimators': 200} 0.0933 0.0055\n",
      "{'bootstrap': False, 'max_depth': 3, 'max_features': 5, 'min_samples_leaf': 10, 'min_samples_split': 10, 'n_estimators': 500} 0.0928 0.0057\n",
      "{'bootstrap': False, 'max_depth': 3, 'max_features': 10, 'min_samples_leaf': 1, 'min_samples_split': 2, 'n_estimators': 200} 0.1057 0.0043\n",
      "{'bootstrap': False, 'max_depth': 3, 'max_features': 10, 'min_samples_leaf': 1, 'min_samples_split': 2, 'n_estimators': 500} 0.1056 0.0047\n",
      "{'bootstrap': False, 'max_depth': 3, 'max_features': 10, 'min_samples_leaf': 1, 'min_samples_split': 5, 'n_estimators': 200} 0.1055 0.0043\n",
      "{'bootstrap': False, 'max_depth': 3, 'max_features': 10, 'min_samples_leaf': 1, 'min_samples_split': 5, 'n_estimators': 500} 0.1055 0.0046\n",
      "{'bootstrap': False, 'max_depth': 3, 'max_features': 10, 'min_samples_leaf': 1, 'min_samples_split': 10, 'n_estimators': 200} 0.1056 0.0044\n",
      "{'bootstrap': False, 'max_depth': 3, 'max_features': 10, 'min_samples_leaf': 1, 'min_samples_split': 10, 'n_estimators': 500} 0.1055 0.0046\n",
      "{'bootstrap': False, 'max_depth': 3, 'max_features': 10, 'min_samples_leaf': 3, 'min_samples_split': 2, 'n_estimators': 200} 0.1065 0.0049\n",
      "{'bootstrap': False, 'max_depth': 3, 'max_features': 10, 'min_samples_leaf': 3, 'min_samples_split': 2, 'n_estimators': 500} 0.106 0.005\n",
      "{'bootstrap': False, 'max_depth': 3, 'max_features': 10, 'min_samples_leaf': 3, 'min_samples_split': 5, 'n_estimators': 200} 0.1065 0.0049\n",
      "{'bootstrap': False, 'max_depth': 3, 'max_features': 10, 'min_samples_leaf': 3, 'min_samples_split': 5, 'n_estimators': 500} 0.106 0.005\n",
      "{'bootstrap': False, 'max_depth': 3, 'max_features': 10, 'min_samples_leaf': 3, 'min_samples_split': 10, 'n_estimators': 200} 0.1065 0.0049\n",
      "{'bootstrap': False, 'max_depth': 3, 'max_features': 10, 'min_samples_leaf': 3, 'min_samples_split': 10, 'n_estimators': 500} 0.106 0.005\n",
      "{'bootstrap': False, 'max_depth': 3, 'max_features': 10, 'min_samples_leaf': 10, 'min_samples_split': 2, 'n_estimators': 200} 0.1078 0.0055\n",
      "{'bootstrap': False, 'max_depth': 3, 'max_features': 10, 'min_samples_leaf': 10, 'min_samples_split': 2, 'n_estimators': 500} 0.1072 0.0055\n",
      "{'bootstrap': False, 'max_depth': 3, 'max_features': 10, 'min_samples_leaf': 10, 'min_samples_split': 5, 'n_estimators': 200} 0.1078 0.0055\n",
      "{'bootstrap': False, 'max_depth': 3, 'max_features': 10, 'min_samples_leaf': 10, 'min_samples_split': 5, 'n_estimators': 500} 0.1072 0.0055\n",
      "{'bootstrap': False, 'max_depth': 3, 'max_features': 10, 'min_samples_leaf': 10, 'min_samples_split': 10, 'n_estimators': 200} 0.1078 0.0055\n",
      "{'bootstrap': False, 'max_depth': 3, 'max_features': 10, 'min_samples_leaf': 10, 'min_samples_split': 10, 'n_estimators': 500} 0.1072 0.0055\n",
      "{'bootstrap': False, 'max_depth': None, 'max_features': 1, 'min_samples_leaf': 1, 'min_samples_split': 2, 'n_estimators': 200} 0.4786 0.0077\n",
      "{'bootstrap': False, 'max_depth': None, 'max_features': 1, 'min_samples_leaf': 1, 'min_samples_split': 2, 'n_estimators': 500} 0.4806 0.0063\n",
      "{'bootstrap': False, 'max_depth': None, 'max_features': 1, 'min_samples_leaf': 1, 'min_samples_split': 5, 'n_estimators': 200} 0.4557 0.0022\n",
      "{'bootstrap': False, 'max_depth': None, 'max_features': 1, 'min_samples_leaf': 1, 'min_samples_split': 5, 'n_estimators': 500} 0.4576 0.0027\n",
      "{'bootstrap': False, 'max_depth': None, 'max_features': 1, 'min_samples_leaf': 1, 'min_samples_split': 10, 'n_estimators': 200} 0.4248 0.0035\n",
      "{'bootstrap': False, 'max_depth': None, 'max_features': 1, 'min_samples_leaf': 1, 'min_samples_split': 10, 'n_estimators': 500} 0.4254 0.0042\n",
      "{'bootstrap': False, 'max_depth': None, 'max_features': 1, 'min_samples_leaf': 3, 'min_samples_split': 2, 'n_estimators': 200} 0.4175 0.0074\n",
      "{'bootstrap': False, 'max_depth': None, 'max_features': 1, 'min_samples_leaf': 3, 'min_samples_split': 2, 'n_estimators': 500} 0.418 0.0066\n",
      "{'bootstrap': False, 'max_depth': None, 'max_features': 1, 'min_samples_leaf': 3, 'min_samples_split': 5, 'n_estimators': 200} 0.4175 0.0074\n",
      "{'bootstrap': False, 'max_depth': None, 'max_features': 1, 'min_samples_leaf': 3, 'min_samples_split': 5, 'n_estimators': 500} 0.418 0.0066\n",
      "{'bootstrap': False, 'max_depth': None, 'max_features': 1, 'min_samples_leaf': 3, 'min_samples_split': 10, 'n_estimators': 200} 0.3977 0.007\n",
      "{'bootstrap': False, 'max_depth': None, 'max_features': 1, 'min_samples_leaf': 3, 'min_samples_split': 10, 'n_estimators': 500} 0.4 0.0081\n",
      "{'bootstrap': False, 'max_depth': None, 'max_features': 1, 'min_samples_leaf': 10, 'min_samples_split': 2, 'n_estimators': 200} 0.3187 0.0106\n",
      "{'bootstrap': False, 'max_depth': None, 'max_features': 1, 'min_samples_leaf': 10, 'min_samples_split': 2, 'n_estimators': 500} 0.3206 0.011\n",
      "{'bootstrap': False, 'max_depth': None, 'max_features': 1, 'min_samples_leaf': 10, 'min_samples_split': 5, 'n_estimators': 200} 0.3187 0.0106\n",
      "{'bootstrap': False, 'max_depth': None, 'max_features': 1, 'min_samples_leaf': 10, 'min_samples_split': 5, 'n_estimators': 500} 0.3206 0.011\n",
      "{'bootstrap': False, 'max_depth': None, 'max_features': 1, 'min_samples_leaf': 10, 'min_samples_split': 10, 'n_estimators': 200} 0.3187 0.0106\n",
      "{'bootstrap': False, 'max_depth': None, 'max_features': 1, 'min_samples_leaf': 10, 'min_samples_split': 10, 'n_estimators': 500} 0.3206 0.011\n",
      "{'bootstrap': False, 'max_depth': None, 'max_features': 3, 'min_samples_leaf': 1, 'min_samples_split': 2, 'n_estimators': 200} 0.4974 0.0228\n",
      "{'bootstrap': False, 'max_depth': None, 'max_features': 3, 'min_samples_leaf': 1, 'min_samples_split': 2, 'n_estimators': 500} 0.4989 0.0225\n",
      "{'bootstrap': False, 'max_depth': None, 'max_features': 3, 'min_samples_leaf': 1, 'min_samples_split': 5, 'n_estimators': 200} 0.4875 0.0163\n",
      "{'bootstrap': False, 'max_depth': None, 'max_features': 3, 'min_samples_leaf': 1, 'min_samples_split': 5, 'n_estimators': 500} 0.4893 0.0169\n",
      "{'bootstrap': False, 'max_depth': None, 'max_features': 3, 'min_samples_leaf': 1, 'min_samples_split': 10, 'n_estimators': 200} 0.4695 0.0097\n",
      "{'bootstrap': False, 'max_depth': None, 'max_features': 3, 'min_samples_leaf': 1, 'min_samples_split': 10, 'n_estimators': 500} 0.4694 0.0101\n",
      "{'bootstrap': False, 'max_depth': None, 'max_features': 3, 'min_samples_leaf': 3, 'min_samples_split': 2, 'n_estimators': 200} 0.4631 0.006\n",
      "{'bootstrap': False, 'max_depth': None, 'max_features': 3, 'min_samples_leaf': 3, 'min_samples_split': 2, 'n_estimators': 500} 0.4641 0.0071\n",
      "{'bootstrap': False, 'max_depth': None, 'max_features': 3, 'min_samples_leaf': 3, 'min_samples_split': 5, 'n_estimators': 200} 0.4631 0.006\n",
      "{'bootstrap': False, 'max_depth': None, 'max_features': 3, 'min_samples_leaf': 3, 'min_samples_split': 5, 'n_estimators': 500} 0.4641 0.0071\n",
      "{'bootstrap': False, 'max_depth': None, 'max_features': 3, 'min_samples_leaf': 3, 'min_samples_split': 10, 'n_estimators': 200} 0.4508 0.0036\n",
      "{'bootstrap': False, 'max_depth': None, 'max_features': 3, 'min_samples_leaf': 3, 'min_samples_split': 10, 'n_estimators': 500} 0.4521 0.0034\n",
      "{'bootstrap': False, 'max_depth': None, 'max_features': 3, 'min_samples_leaf': 10, 'min_samples_split': 2, 'n_estimators': 200} 0.3855 0.0045\n",
      "{'bootstrap': False, 'max_depth': None, 'max_features': 3, 'min_samples_leaf': 10, 'min_samples_split': 2, 'n_estimators': 500} 0.3864 0.0049\n",
      "{'bootstrap': False, 'max_depth': None, 'max_features': 3, 'min_samples_leaf': 10, 'min_samples_split': 5, 'n_estimators': 200} 0.3855 0.0045\n",
      "{'bootstrap': False, 'max_depth': None, 'max_features': 3, 'min_samples_leaf': 10, 'min_samples_split': 5, 'n_estimators': 500} 0.3864 0.0049\n",
      "{'bootstrap': False, 'max_depth': None, 'max_features': 3, 'min_samples_leaf': 10, 'min_samples_split': 10, 'n_estimators': 200} 0.3855 0.0045\n",
      "{'bootstrap': False, 'max_depth': None, 'max_features': 3, 'min_samples_leaf': 10, 'min_samples_split': 10, 'n_estimators': 500} 0.3864 0.0049\n",
      "{'bootstrap': False, 'max_depth': None, 'max_features': 5, 'min_samples_leaf': 1, 'min_samples_split': 2, 'n_estimators': 200} 0.4835 0.0261\n",
      "{'bootstrap': False, 'max_depth': None, 'max_features': 5, 'min_samples_leaf': 1, 'min_samples_split': 2, 'n_estimators': 500} 0.4872 0.0257\n",
      "{'bootstrap': False, 'max_depth': None, 'max_features': 5, 'min_samples_leaf': 1, 'min_samples_split': 5, 'n_estimators': 200} 0.4792 0.0215\n",
      "{'bootstrap': False, 'max_depth': None, 'max_features': 5, 'min_samples_leaf': 1, 'min_samples_split': 5, 'n_estimators': 500} 0.4823 0.0208\n",
      "{'bootstrap': False, 'max_depth': None, 'max_features': 5, 'min_samples_leaf': 1, 'min_samples_split': 10, 'n_estimators': 200} 0.466 0.015\n",
      "{'bootstrap': False, 'max_depth': None, 'max_features': 5, 'min_samples_leaf': 1, 'min_samples_split': 10, 'n_estimators': 500} 0.4668 0.0141\n",
      "{'bootstrap': False, 'max_depth': None, 'max_features': 5, 'min_samples_leaf': 3, 'min_samples_split': 2, 'n_estimators': 200} 0.4636 0.0089\n",
      "{'bootstrap': False, 'max_depth': None, 'max_features': 5, 'min_samples_leaf': 3, 'min_samples_split': 2, 'n_estimators': 500} 0.465 0.0087\n",
      "{'bootstrap': False, 'max_depth': None, 'max_features': 5, 'min_samples_leaf': 3, 'min_samples_split': 5, 'n_estimators': 200} 0.4636 0.0089\n",
      "{'bootstrap': False, 'max_depth': None, 'max_features': 5, 'min_samples_leaf': 3, 'min_samples_split': 5, 'n_estimators': 500} 0.465 0.0087\n",
      "{'bootstrap': False, 'max_depth': None, 'max_features': 5, 'min_samples_leaf': 3, 'min_samples_split': 10, 'n_estimators': 200} 0.4533 0.0058\n",
      "{'bootstrap': False, 'max_depth': None, 'max_features': 5, 'min_samples_leaf': 3, 'min_samples_split': 10, 'n_estimators': 500} 0.4544 0.006\n",
      "{'bootstrap': False, 'max_depth': None, 'max_features': 5, 'min_samples_leaf': 10, 'min_samples_split': 2, 'n_estimators': 200} 0.3933 0.0053\n",
      "{'bootstrap': False, 'max_depth': None, 'max_features': 5, 'min_samples_leaf': 10, 'min_samples_split': 2, 'n_estimators': 500} 0.3952 0.0038\n",
      "{'bootstrap': False, 'max_depth': None, 'max_features': 5, 'min_samples_leaf': 10, 'min_samples_split': 5, 'n_estimators': 200} 0.3933 0.0053\n",
      "{'bootstrap': False, 'max_depth': None, 'max_features': 5, 'min_samples_leaf': 10, 'min_samples_split': 5, 'n_estimators': 500} 0.3952 0.0038\n",
      "{'bootstrap': False, 'max_depth': None, 'max_features': 5, 'min_samples_leaf': 10, 'min_samples_split': 10, 'n_estimators': 200} 0.3933 0.0053\n",
      "{'bootstrap': False, 'max_depth': None, 'max_features': 5, 'min_samples_leaf': 10, 'min_samples_split': 10, 'n_estimators': 500} 0.3952 0.0038\n",
      "{'bootstrap': False, 'max_depth': None, 'max_features': 10, 'min_samples_leaf': 1, 'min_samples_split': 2, 'n_estimators': 200} 0.4674 0.0278\n",
      "{'bootstrap': False, 'max_depth': None, 'max_features': 10, 'min_samples_leaf': 1, 'min_samples_split': 2, 'n_estimators': 500} 0.4676 0.0285\n",
      "{'bootstrap': False, 'max_depth': None, 'max_features': 10, 'min_samples_leaf': 1, 'min_samples_split': 5, 'n_estimators': 200} 0.4619 0.0233\n",
      "{'bootstrap': False, 'max_depth': None, 'max_features': 10, 'min_samples_leaf': 1, 'min_samples_split': 5, 'n_estimators': 500} 0.4632 0.0233\n",
      "{'bootstrap': False, 'max_depth': None, 'max_features': 10, 'min_samples_leaf': 1, 'min_samples_split': 10, 'n_estimators': 200} 0.4522 0.0167\n",
      "{'bootstrap': False, 'max_depth': None, 'max_features': 10, 'min_samples_leaf': 1, 'min_samples_split': 10, 'n_estimators': 500} 0.4536 0.0174\n",
      "{'bootstrap': False, 'max_depth': None, 'max_features': 10, 'min_samples_leaf': 3, 'min_samples_split': 2, 'n_estimators': 200} 0.4577 0.0133\n",
      "{'bootstrap': False, 'max_depth': None, 'max_features': 10, 'min_samples_leaf': 3, 'min_samples_split': 2, 'n_estimators': 500} 0.458 0.0128\n",
      "{'bootstrap': False, 'max_depth': None, 'max_features': 10, 'min_samples_leaf': 3, 'min_samples_split': 5, 'n_estimators': 200} 0.4577 0.0133\n",
      "{'bootstrap': False, 'max_depth': None, 'max_features': 10, 'min_samples_leaf': 3, 'min_samples_split': 5, 'n_estimators': 500} 0.458 0.0128\n",
      "{'bootstrap': False, 'max_depth': None, 'max_features': 10, 'min_samples_leaf': 3, 'min_samples_split': 10, 'n_estimators': 200} 0.4469 0.0078\n",
      "{'bootstrap': False, 'max_depth': None, 'max_features': 10, 'min_samples_leaf': 3, 'min_samples_split': 10, 'n_estimators': 500} 0.4475 0.0081\n",
      "{'bootstrap': False, 'max_depth': None, 'max_features': 10, 'min_samples_leaf': 10, 'min_samples_split': 2, 'n_estimators': 200} 0.3988 0.002\n",
      "{'bootstrap': False, 'max_depth': None, 'max_features': 10, 'min_samples_leaf': 10, 'min_samples_split': 2, 'n_estimators': 500} 0.3984 0.0016\n",
      "{'bootstrap': False, 'max_depth': None, 'max_features': 10, 'min_samples_leaf': 10, 'min_samples_split': 5, 'n_estimators': 200} 0.3988 0.002\n",
      "{'bootstrap': False, 'max_depth': None, 'max_features': 10, 'min_samples_leaf': 10, 'min_samples_split': 5, 'n_estimators': 500} 0.3984 0.0016\n",
      "{'bootstrap': False, 'max_depth': None, 'max_features': 10, 'min_samples_leaf': 10, 'min_samples_split': 10, 'n_estimators': 200} 0.3988 0.002\n",
      "{'bootstrap': False, 'max_depth': None, 'max_features': 10, 'min_samples_leaf': 10, 'min_samples_split': 10, 'n_estimators': 500} 0.3984 0.0016\n"
     ]
    }
   ],
   "source": [
    "results = grid.cv_results_\n",
    "for param, score_mean, score_sd in zip(results['params'], results['mean_test_score'],results['std_test_score']):\n",
    "    print(param, round(score_mean, 4), round(score_sd, 4))"
   ]
  },
  {
   "cell_type": "code",
   "execution_count": 54,
   "metadata": {
    "collapsed": false
   },
   "outputs": [
    {
     "data": {
      "text/plain": [
       "Index(['date', 'Appliances', 'lights', 'T1', 'RH_1', 'T2', 'RH_2', 'T3',\n",
       "       'RH_3', 'T4', 'RH_4', 'T5', 'RH_5', 'T6', 'RH_6', 'T7', 'RH_7', 'T8',\n",
       "       'RH_8', 'T9', 'RH_9', 'T_out', 'Press_mm_hg', 'RH_out', 'Windspeed',\n",
       "       'Visibility', 'Tdewpoint', 'rv1', 'rv2', 'seconds', 'dow_Monday',\n",
       "       'dow_Saturday', 'dow_Sunday', 'dow_Thursday', 'dow_Tuesday',\n",
       "       'dow_Wednesday', 'ws_Weekend'],\n",
       "      dtype='object')"
      ]
     },
     "execution_count": 54,
     "metadata": {},
     "output_type": "execute_result"
    }
   ],
   "source": [
    "df.columns"
   ]
  },
  {
   "cell_type": "code",
   "execution_count": 157,
   "metadata": {
    "collapsed": true
   },
   "outputs": [],
   "source": [
    "X=df[['lights', 'T1', 'RH_1', 'T2', 'RH_2', 'T3',\n",
    "       'RH_3', 'T4', 'RH_4', 'T5', 'RH_5', 'T6', 'RH_6', 'T7', 'RH_7', 'T8',\n",
    "       'RH_8', 'T9', 'RH_9', 'T_out', 'Press_mm_hg', 'RH_out', 'Windspeed',\n",
    "       'Visibility', 'Tdewpoint', 'rv1', 'rv2', 'seconds', 'dow_Monday',\n",
    "       'dow_Saturday', 'dow_Sunday', 'dow_Thursday', 'dow_Tuesday',\n",
    "       'dow_Wednesday', 'ws_Weekend']]"
   ]
  },
  {
   "cell_type": "code",
   "execution_count": 158,
   "metadata": {
    "collapsed": true
   },
   "outputs": [],
   "source": [
    "X_train, X_test, y_train, y_test = train_test_split(X, y, test_size=0.25, random_state=101)"
   ]
  },
  {
   "cell_type": "code",
   "execution_count": 159,
   "metadata": {
    "collapsed": false
   },
   "outputs": [
    {
     "data": {
      "text/plain": [
       "RandomForestRegressor(bootstrap=False, criterion='mse', max_depth=None,\n",
       "           max_features=3, max_leaf_nodes=None, min_impurity_decrease=0.0,\n",
       "           min_impurity_split=None, min_samples_leaf=1,\n",
       "           min_samples_split=2, min_weight_fraction_leaf=0.0,\n",
       "           n_estimators=500, n_jobs=1, oob_score=False, random_state=0,\n",
       "           verbose=0, warm_start=False)"
      ]
     },
     "execution_count": 159,
     "metadata": {},
     "output_type": "execute_result"
    }
   ],
   "source": [
    "regressor = RandomForestRegressor(random_state=0, n_estimators=500, max_depth=None, max_features=3, \n",
    "                                  min_samples_leaf=1, min_samples_split=2, bootstrap=False)\n",
    "regressor.fit(X_train, y_train)"
   ]
  },
  {
   "cell_type": "code",
   "execution_count": 160,
   "metadata": {
    "collapsed": false
   },
   "outputs": [
    {
     "data": {
      "text/plain": [
       "0.6158559823762616"
      ]
     },
     "execution_count": 160,
     "metadata": {},
     "output_type": "execute_result"
    }
   ],
   "source": [
    "regressor.score(X_test, y_test)"
   ]
  },
  {
   "cell_type": "code",
   "execution_count": 161,
   "metadata": {
    "collapsed": false
   },
   "outputs": [
    {
     "name": "stdout",
     "output_type": "stream",
     "text": [
      "MAE: 42.0008537483\n",
      "MSE: 6394.78008963\n",
      "RMSE: 79.9673689053\n"
     ]
    }
   ],
   "source": [
    "print('MAE:', metrics.mean_absolute_error(y_test, y_pred))\n",
    "print('MSE:', metrics.mean_squared_error(y_test, y_pred))\n",
    "print('RMSE:', np.sqrt(metrics.mean_squared_error(y_test, y_pred)))"
   ]
  },
  {
   "cell_type": "code",
   "execution_count": 162,
   "metadata": {
    "collapsed": true
   },
   "outputs": [],
   "source": [
    "\n",
    "#######  Feature scaling#####\n",
    "from sklearn.preprocessing import StandardScaler\n",
    "scaler = StandardScaler()\n",
    "scaler.fit(X_test)\n",
    "scaled_test = scaler.transform(X_test)\n",
    "\n",
    "\n",
    "scaler.fit(X_train)\n",
    "scaled_train = scaler.transform(X_train)\n",
    "\n",
    "\n"
   ]
  },
  {
   "cell_type": "code",
   "execution_count": 163,
   "metadata": {
    "collapsed": false
   },
   "outputs": [
    {
     "data": {
      "text/plain": [
       "RandomForestRegressor(bootstrap=False, criterion='mse', max_depth=None,\n",
       "           max_features=3, max_leaf_nodes=None, min_impurity_decrease=0.0,\n",
       "           min_impurity_split=None, min_samples_leaf=1,\n",
       "           min_samples_split=2, min_weight_fraction_leaf=0.0,\n",
       "           n_estimators=500, n_jobs=1, oob_score=False, random_state=0,\n",
       "           verbose=0, warm_start=False)"
      ]
     },
     "execution_count": 163,
     "metadata": {},
     "output_type": "execute_result"
    }
   ],
   "source": [
    "regressor = RandomForestRegressor(random_state=0, n_estimators=500, max_depth=None, max_features=3, \n",
    "                                  min_samples_leaf=1, min_samples_split=2, bootstrap=False)\n",
    "regressor.fit(scaled_train, y_train)"
   ]
  },
  {
   "cell_type": "code",
   "execution_count": 164,
   "metadata": {
    "collapsed": false
   },
   "outputs": [
    {
     "data": {
      "text/plain": [
       "0.60362213682168275"
      ]
     },
     "execution_count": 164,
     "metadata": {},
     "output_type": "execute_result"
    }
   ],
   "source": [
    "regressor.score(scaled_test, y_test)"
   ]
  },
  {
   "cell_type": "code",
   "execution_count": 141,
   "metadata": {
    "collapsed": true
   },
   "outputs": [],
   "source": [
    "###  Feature Selection  ##\n",
    "\n",
    "# Recursive Feature Elimination\n",
    "\n",
    "from sklearn.feature_selection import RFE\n",
    "\n",
    "\n",
    "model = RandomForestRegressor(random_state=0, n_estimators=500, max_depth=None, max_features=3, \n",
    "                                  min_samples_leaf=1, min_samples_split=2, bootstrap=False)\n",
    "# create the RFE model and select 4 attributes\n",
    "rfe = RFE(model, None)\n",
    "rfe = rfe.fit(X_train,y_train )\n",
    "# summarize the selection of the attributes\n",
    "fs_s=rfe.support_\n",
    "fs_r=rfe.ranking_\n"
   ]
  },
  {
   "cell_type": "code",
   "execution_count": 142,
   "metadata": {
    "collapsed": false
   },
   "outputs": [
    {
     "data": {
      "text/plain": [
       "array([ 9,  6,  1,  1,  1,  1,  1,  5,  3,  4,  1,  1,  1,  1,  1,  1,  1,\n",
       "        8,  1,  2,  1,  1,  7, 10,  1, 11, 12,  1, 13, 14, 16, 19, 17, 18,\n",
       "       15])"
      ]
     },
     "execution_count": 142,
     "metadata": {},
     "output_type": "execute_result"
    }
   ],
   "source": [
    "fs_r"
   ]
  },
  {
   "cell_type": "code",
   "execution_count": 143,
   "metadata": {
    "collapsed": true
   },
   "outputs": [],
   "source": [
    "fr = pd.DataFrame(X.columns,fs_r)"
   ]
  },
  {
   "cell_type": "code",
   "execution_count": 144,
   "metadata": {
    "collapsed": false
   },
   "outputs": [
    {
     "data": {
      "text/html": [
       "<div>\n",
       "<style>\n",
       "    .dataframe thead tr:only-child th {\n",
       "        text-align: right;\n",
       "    }\n",
       "\n",
       "    .dataframe thead th {\n",
       "        text-align: left;\n",
       "    }\n",
       "\n",
       "    .dataframe tbody tr th {\n",
       "        vertical-align: top;\n",
       "    }\n",
       "</style>\n",
       "<table border=\"1\" class=\"dataframe\">\n",
       "  <thead>\n",
       "    <tr style=\"text-align: right;\">\n",
       "      <th></th>\n",
       "      <th>0</th>\n",
       "    </tr>\n",
       "  </thead>\n",
       "  <tbody>\n",
       "    <tr>\n",
       "      <th>9</th>\n",
       "      <td>lights</td>\n",
       "    </tr>\n",
       "    <tr>\n",
       "      <th>6</th>\n",
       "      <td>T1</td>\n",
       "    </tr>\n",
       "    <tr>\n",
       "      <th>1</th>\n",
       "      <td>RH_1</td>\n",
       "    </tr>\n",
       "    <tr>\n",
       "      <th>1</th>\n",
       "      <td>T2</td>\n",
       "    </tr>\n",
       "    <tr>\n",
       "      <th>1</th>\n",
       "      <td>RH_2</td>\n",
       "    </tr>\n",
       "    <tr>\n",
       "      <th>1</th>\n",
       "      <td>T3</td>\n",
       "    </tr>\n",
       "    <tr>\n",
       "      <th>1</th>\n",
       "      <td>RH_3</td>\n",
       "    </tr>\n",
       "    <tr>\n",
       "      <th>5</th>\n",
       "      <td>T4</td>\n",
       "    </tr>\n",
       "    <tr>\n",
       "      <th>3</th>\n",
       "      <td>RH_4</td>\n",
       "    </tr>\n",
       "    <tr>\n",
       "      <th>4</th>\n",
       "      <td>T5</td>\n",
       "    </tr>\n",
       "    <tr>\n",
       "      <th>1</th>\n",
       "      <td>RH_5</td>\n",
       "    </tr>\n",
       "    <tr>\n",
       "      <th>1</th>\n",
       "      <td>T6</td>\n",
       "    </tr>\n",
       "    <tr>\n",
       "      <th>1</th>\n",
       "      <td>RH_6</td>\n",
       "    </tr>\n",
       "    <tr>\n",
       "      <th>1</th>\n",
       "      <td>T7</td>\n",
       "    </tr>\n",
       "    <tr>\n",
       "      <th>1</th>\n",
       "      <td>RH_7</td>\n",
       "    </tr>\n",
       "    <tr>\n",
       "      <th>1</th>\n",
       "      <td>T8</td>\n",
       "    </tr>\n",
       "    <tr>\n",
       "      <th>1</th>\n",
       "      <td>RH_8</td>\n",
       "    </tr>\n",
       "    <tr>\n",
       "      <th>8</th>\n",
       "      <td>T9</td>\n",
       "    </tr>\n",
       "    <tr>\n",
       "      <th>1</th>\n",
       "      <td>RH_9</td>\n",
       "    </tr>\n",
       "    <tr>\n",
       "      <th>2</th>\n",
       "      <td>T_out</td>\n",
       "    </tr>\n",
       "    <tr>\n",
       "      <th>1</th>\n",
       "      <td>Press_mm_hg</td>\n",
       "    </tr>\n",
       "    <tr>\n",
       "      <th>1</th>\n",
       "      <td>RH_out</td>\n",
       "    </tr>\n",
       "    <tr>\n",
       "      <th>7</th>\n",
       "      <td>Windspeed</td>\n",
       "    </tr>\n",
       "    <tr>\n",
       "      <th>10</th>\n",
       "      <td>Visibility</td>\n",
       "    </tr>\n",
       "    <tr>\n",
       "      <th>1</th>\n",
       "      <td>Tdewpoint</td>\n",
       "    </tr>\n",
       "    <tr>\n",
       "      <th>11</th>\n",
       "      <td>rv1</td>\n",
       "    </tr>\n",
       "    <tr>\n",
       "      <th>12</th>\n",
       "      <td>rv2</td>\n",
       "    </tr>\n",
       "    <tr>\n",
       "      <th>1</th>\n",
       "      <td>seconds</td>\n",
       "    </tr>\n",
       "    <tr>\n",
       "      <th>13</th>\n",
       "      <td>dow_Monday</td>\n",
       "    </tr>\n",
       "    <tr>\n",
       "      <th>14</th>\n",
       "      <td>dow_Saturday</td>\n",
       "    </tr>\n",
       "    <tr>\n",
       "      <th>16</th>\n",
       "      <td>dow_Sunday</td>\n",
       "    </tr>\n",
       "    <tr>\n",
       "      <th>19</th>\n",
       "      <td>dow_Thursday</td>\n",
       "    </tr>\n",
       "    <tr>\n",
       "      <th>17</th>\n",
       "      <td>dow_Tuesday</td>\n",
       "    </tr>\n",
       "    <tr>\n",
       "      <th>18</th>\n",
       "      <td>dow_Wednesday</td>\n",
       "    </tr>\n",
       "    <tr>\n",
       "      <th>15</th>\n",
       "      <td>ws_Weekend</td>\n",
       "    </tr>\n",
       "  </tbody>\n",
       "</table>\n",
       "</div>"
      ],
      "text/plain": [
       "                0\n",
       "9          lights\n",
       "6              T1\n",
       "1            RH_1\n",
       "1              T2\n",
       "1            RH_2\n",
       "1              T3\n",
       "1            RH_3\n",
       "5              T4\n",
       "3            RH_4\n",
       "4              T5\n",
       "1            RH_5\n",
       "1              T6\n",
       "1            RH_6\n",
       "1              T7\n",
       "1            RH_7\n",
       "1              T8\n",
       "1            RH_8\n",
       "8              T9\n",
       "1            RH_9\n",
       "2           T_out\n",
       "1     Press_mm_hg\n",
       "1          RH_out\n",
       "7       Windspeed\n",
       "10     Visibility\n",
       "1       Tdewpoint\n",
       "11            rv1\n",
       "12            rv2\n",
       "1         seconds\n",
       "13     dow_Monday\n",
       "14   dow_Saturday\n",
       "16     dow_Sunday\n",
       "19   dow_Thursday\n",
       "17    dow_Tuesday\n",
       "18  dow_Wednesday\n",
       "15     ws_Weekend"
      ]
     },
     "execution_count": 144,
     "metadata": {},
     "output_type": "execute_result"
    }
   ],
   "source": [
    "fr"
   ]
  },
  {
   "cell_type": "code",
   "execution_count": 165,
   "metadata": {
    "collapsed": false
   },
   "outputs": [
    {
     "data": {
      "text/html": [
       "<div>\n",
       "<style>\n",
       "    .dataframe thead tr:only-child th {\n",
       "        text-align: right;\n",
       "    }\n",
       "\n",
       "    .dataframe thead th {\n",
       "        text-align: left;\n",
       "    }\n",
       "\n",
       "    .dataframe tbody tr th {\n",
       "        vertical-align: top;\n",
       "    }\n",
       "</style>\n",
       "<table border=\"1\" class=\"dataframe\">\n",
       "  <thead>\n",
       "    <tr style=\"text-align: right;\">\n",
       "      <th></th>\n",
       "      <th>seconds</th>\n",
       "      <th>RH_8</th>\n",
       "      <th>Press_mm_hg</th>\n",
       "      <th>RH_7</th>\n",
       "      <th>RH_1</th>\n",
       "      <th>RH_3</th>\n",
       "      <th>T3</th>\n",
       "      <th>RH_5</th>\n",
       "      <th>RH_2</th>\n",
       "      <th>RH_out</th>\n",
       "      <th>...</th>\n",
       "      <th>Visibility</th>\n",
       "      <th>rv1</th>\n",
       "      <th>rv2</th>\n",
       "      <th>dow_Monday</th>\n",
       "      <th>dow_Saturday</th>\n",
       "      <th>ws_Weekend</th>\n",
       "      <th>dow_Sunday</th>\n",
       "      <th>dow_Tuesday</th>\n",
       "      <th>dow_Wednesday</th>\n",
       "      <th>dow_Thursday</th>\n",
       "    </tr>\n",
       "  </thead>\n",
       "  <tbody>\n",
       "    <tr>\n",
       "      <th>values</th>\n",
       "      <td>0.084182</td>\n",
       "      <td>0.039706</td>\n",
       "      <td>0.039138</td>\n",
       "      <td>0.038737</td>\n",
       "      <td>0.038685</td>\n",
       "      <td>0.038166</td>\n",
       "      <td>0.038013</td>\n",
       "      <td>0.037919</td>\n",
       "      <td>0.037443</td>\n",
       "      <td>0.036628</td>\n",
       "      <td>...</td>\n",
       "      <td>0.020159</td>\n",
       "      <td>0.018308</td>\n",
       "      <td>0.018116</td>\n",
       "      <td>0.00525</td>\n",
       "      <td>0.003833</td>\n",
       "      <td>0.003522</td>\n",
       "      <td>0.00282</td>\n",
       "      <td>0.002769</td>\n",
       "      <td>0.002467</td>\n",
       "      <td>0.002187</td>\n",
       "    </tr>\n",
       "  </tbody>\n",
       "</table>\n",
       "<p>1 rows × 35 columns</p>\n",
       "</div>"
      ],
      "text/plain": [
       "         seconds      RH_8  Press_mm_hg      RH_7      RH_1      RH_3  \\\n",
       "values  0.084182  0.039706     0.039138  0.038737  0.038685  0.038166   \n",
       "\n",
       "              T3      RH_5      RH_2    RH_out      ...       Visibility  \\\n",
       "values  0.038013  0.037919  0.037443  0.036628      ...         0.020159   \n",
       "\n",
       "             rv1       rv2  dow_Monday  dow_Saturday  ws_Weekend  dow_Sunday  \\\n",
       "values  0.018308  0.018116     0.00525      0.003833    0.003522     0.00282   \n",
       "\n",
       "        dow_Tuesday  dow_Wednesday  dow_Thursday  \n",
       "values     0.002769       0.002467      0.002187  \n",
       "\n",
       "[1 rows x 35 columns]"
      ]
     },
     "execution_count": 165,
     "metadata": {},
     "output_type": "execute_result"
    }
   ],
   "source": [
    "#Interpretng Model results\n",
    "feature_import = pd.DataFrame(data=regressor.feature_importances_, index=X.columns.values, columns=['values'])\n",
    "feature_import.sort_values(['values'], ascending=False, inplace=True)\n",
    "feature_import.transpose()"
   ]
  },
  {
   "cell_type": "code",
   "execution_count": 166,
   "metadata": {
    "collapsed": false
   },
   "outputs": [
    {
     "data": {
      "image/png": "[encoded data removed]",
      "text/plain": [
       "<matplotlib.figure.Figure at 0x7f443aaa6ba8>"
      ]
     },
     "metadata": {},
     "output_type": "display_data"
    }
   ],
   "source": [
    "#Feature Importance\n",
    "feature_import.reset_index(level=0, inplace=True)\n",
    "sns.set_style('ticks')\n",
    "fig, ax = plt.subplots()\n",
    "\n",
    "# the size of A4 paper\n",
    "fig.set_size_inches(13.7, 8.27)\n",
    "sns.barplot(x='index', y='values', data=feature_import, palette='deep',saturation=.9)\n",
    "\n",
    "\n",
    "rotation = 90\n",
    "for i, ax in enumerate(fig.axes):   ## getting all axes of the fig object\n",
    "     ax.set_xticklabels(ax.get_xticklabels(), rotation = rotation)\n",
    "\n",
    "\n",
    "plt.show()\n"
   ]
  },
  {
   "cell_type": "code",
   "execution_count": 194,
   "metadata": {
    "collapsed": true
   },
   "outputs": [],
   "source": [
    "X=df[[ 'T1', 'RH_1', 'T2', 'RH_2', 'T3',\n",
    "       'RH_3', 'T4', 'RH_4', 'T5', 'RH_5', 'T6', 'RH_6', 'T7', 'RH_7', 'T8',\n",
    "       'RH_8',  'RH_9','T9', 'T_out', 'Press_mm_hg', 'Windspeed','RH_out', \n",
    "       'Tdewpoint', 'seconds']]"
   ]
  },
  {
   "cell_type": "code",
   "execution_count": 195,
   "metadata": {
    "collapsed": true
   },
   "outputs": [],
   "source": [
    "X_train, X_test, y_train, y_test = train_test_split(X, y, test_size=0.25, random_state=101)"
   ]
  },
  {
   "cell_type": "code",
   "execution_count": 196,
   "metadata": {
    "collapsed": false
   },
   "outputs": [
    {
     "data": {
      "text/html": [
       "<div>\n",
       "<style>\n",
       "    .dataframe thead tr:only-child th {\n",
       "        text-align: right;\n",
       "    }\n",
       "\n",
       "    .dataframe thead th {\n",
       "        text-align: left;\n",
       "    }\n",
       "\n",
       "    .dataframe tbody tr th {\n",
       "        vertical-align: top;\n",
       "    }\n",
       "</style>\n",
       "<table border=\"1\" class=\"dataframe\">\n",
       "  <thead>\n",
       "    <tr style=\"text-align: right;\">\n",
       "      <th></th>\n",
       "      <th>T1</th>\n",
       "      <th>RH_1</th>\n",
       "      <th>T2</th>\n",
       "      <th>RH_2</th>\n",
       "      <th>T3</th>\n",
       "      <th>RH_3</th>\n",
       "      <th>T4</th>\n",
       "      <th>RH_4</th>\n",
       "      <th>T5</th>\n",
       "      <th>RH_5</th>\n",
       "      <th>...</th>\n",
       "      <th>T8</th>\n",
       "      <th>RH_8</th>\n",
       "      <th>RH_9</th>\n",
       "      <th>T9</th>\n",
       "      <th>T_out</th>\n",
       "      <th>Press_mm_hg</th>\n",
       "      <th>Windspeed</th>\n",
       "      <th>RH_out</th>\n",
       "      <th>Tdewpoint</th>\n",
       "      <th>seconds</th>\n",
       "    </tr>\n",
       "  </thead>\n",
       "  <tbody>\n",
       "    <tr>\n",
       "      <th>17803</th>\n",
       "      <td>24.50</td>\n",
       "      <td>36.590000</td>\n",
       "      <td>22.540000</td>\n",
       "      <td>37.620000</td>\n",
       "      <td>24.100</td>\n",
       "      <td>31.976000</td>\n",
       "      <td>24.751429</td>\n",
       "      <td>36.264286</td>\n",
       "      <td>23.790000</td>\n",
       "      <td>41.99250</td>\n",
       "      <td>...</td>\n",
       "      <td>25.29</td>\n",
       "      <td>38.497143</td>\n",
       "      <td>40.741429</td>\n",
       "      <td>23.89</td>\n",
       "      <td>8.666667</td>\n",
       "      <td>755.550000</td>\n",
       "      <td>5.833333</td>\n",
       "      <td>63.333333</td>\n",
       "      <td>2.016667</td>\n",
       "      <td>29400</td>\n",
       "    </tr>\n",
       "    <tr>\n",
       "      <th>6060</th>\n",
       "      <td>21.26</td>\n",
       "      <td>45.323333</td>\n",
       "      <td>19.856667</td>\n",
       "      <td>45.290000</td>\n",
       "      <td>21.525</td>\n",
       "      <td>42.425000</td>\n",
       "      <td>20.166667</td>\n",
       "      <td>43.663333</td>\n",
       "      <td>18.500000</td>\n",
       "      <td>52.13125</td>\n",
       "      <td>...</td>\n",
       "      <td>20.89</td>\n",
       "      <td>47.656667</td>\n",
       "      <td>45.090000</td>\n",
       "      <td>18.60</td>\n",
       "      <td>5.500000</td>\n",
       "      <td>752.700000</td>\n",
       "      <td>3.000000</td>\n",
       "      <td>98.000000</td>\n",
       "      <td>5.200000</td>\n",
       "      <td>68400</td>\n",
       "    </tr>\n",
       "    <tr>\n",
       "      <th>7567</th>\n",
       "      <td>20.89</td>\n",
       "      <td>36.564286</td>\n",
       "      <td>18.890000</td>\n",
       "      <td>38.090000</td>\n",
       "      <td>21.000</td>\n",
       "      <td>38.668571</td>\n",
       "      <td>19.390000</td>\n",
       "      <td>35.912500</td>\n",
       "      <td>18.200000</td>\n",
       "      <td>51.61750</td>\n",
       "      <td>...</td>\n",
       "      <td>21.00</td>\n",
       "      <td>44.500000</td>\n",
       "      <td>41.500000</td>\n",
       "      <td>18.50</td>\n",
       "      <td>3.721429</td>\n",
       "      <td>740.754762</td>\n",
       "      <td>7.857143</td>\n",
       "      <td>91.047619</td>\n",
       "      <td>2.330952</td>\n",
       "      <td>22200</td>\n",
       "    </tr>\n",
       "    <tr>\n",
       "      <th>14224</th>\n",
       "      <td>21.50</td>\n",
       "      <td>39.590000</td>\n",
       "      <td>22.500000</td>\n",
       "      <td>36.966667</td>\n",
       "      <td>22.000</td>\n",
       "      <td>37.200000</td>\n",
       "      <td>22.000000</td>\n",
       "      <td>37.134000</td>\n",
       "      <td>19.890000</td>\n",
       "      <td>46.29000</td>\n",
       "      <td>...</td>\n",
       "      <td>21.39</td>\n",
       "      <td>40.400000</td>\n",
       "      <td>39.290000</td>\n",
       "      <td>20.29</td>\n",
       "      <td>11.433333</td>\n",
       "      <td>765.533333</td>\n",
       "      <td>1.000000</td>\n",
       "      <td>68.666667</td>\n",
       "      <td>5.733333</td>\n",
       "      <td>42000</td>\n",
       "    </tr>\n",
       "    <tr>\n",
       "      <th>7121</th>\n",
       "      <td>20.79</td>\n",
       "      <td>35.700000</td>\n",
       "      <td>18.290000</td>\n",
       "      <td>37.000000</td>\n",
       "      <td>21.000</td>\n",
       "      <td>35.700000</td>\n",
       "      <td>20.260000</td>\n",
       "      <td>33.966667</td>\n",
       "      <td>18.566667</td>\n",
       "      <td>40.09000</td>\n",
       "      <td>...</td>\n",
       "      <td>21.60</td>\n",
       "      <td>41.730000</td>\n",
       "      <td>38.730000</td>\n",
       "      <td>18.29</td>\n",
       "      <td>-2.950000</td>\n",
       "      <td>762.583333</td>\n",
       "      <td>2.000000</td>\n",
       "      <td>96.000000</td>\n",
       "      <td>-3.466667</td>\n",
       "      <td>13800</td>\n",
       "    </tr>\n",
       "  </tbody>\n",
       "</table>\n",
       "<p>5 rows × 24 columns</p>\n",
       "</div>"
      ],
      "text/plain": [
       "          T1       RH_1         T2       RH_2      T3       RH_3         T4  \\\n",
       "17803  24.50  36.590000  22.540000  37.620000  24.100  31.976000  24.751429   \n",
       "6060   21.26  45.323333  19.856667  45.290000  21.525  42.425000  20.166667   \n",
       "7567   20.89  36.564286  18.890000  38.090000  21.000  38.668571  19.390000   \n",
       "14224  21.50  39.590000  22.500000  36.966667  22.000  37.200000  22.000000   \n",
       "7121   20.79  35.700000  18.290000  37.000000  21.000  35.700000  20.260000   \n",
       "\n",
       "            RH_4         T5      RH_5   ...        T8       RH_8       RH_9  \\\n",
       "17803  36.264286  23.790000  41.99250   ...     25.29  38.497143  40.741429   \n",
       "6060   43.663333  18.500000  52.13125   ...     20.89  47.656667  45.090000   \n",
       "7567   35.912500  18.200000  51.61750   ...     21.00  44.500000  41.500000   \n",
       "14224  37.134000  19.890000  46.29000   ...     21.39  40.400000  39.290000   \n",
       "7121   33.966667  18.566667  40.09000   ...     21.60  41.730000  38.730000   \n",
       "\n",
       "          T9      T_out  Press_mm_hg  Windspeed     RH_out  Tdewpoint  seconds  \n",
       "17803  23.89   8.666667   755.550000   5.833333  63.333333   2.016667    29400  \n",
       "6060   18.60   5.500000   752.700000   3.000000  98.000000   5.200000    68400  \n",
       "7567   18.50   3.721429   740.754762   7.857143  91.047619   2.330952    22200  \n",
       "14224  20.29  11.433333   765.533333   1.000000  68.666667   5.733333    42000  \n",
       "7121   18.29  -2.950000   762.583333   2.000000  96.000000  -3.466667    13800  \n",
       "\n",
       "[5 rows x 24 columns]"
      ]
     },
     "execution_count": 196,
     "metadata": {},
     "output_type": "execute_result"
    }
   ],
   "source": [
    "X_train.head()"
   ]
  },
  {
   "cell_type": "code",
   "execution_count": 197,
   "metadata": {
    "collapsed": false
   },
   "outputs": [
    {
     "data": {
      "text/plain": [
       "RandomForestRegressor(bootstrap=False, criterion='mse', max_depth=None,\n",
       "           max_features=3, max_leaf_nodes=None, min_impurity_decrease=0.0,\n",
       "           min_impurity_split=None, min_samples_leaf=1,\n",
       "           min_samples_split=2, min_weight_fraction_leaf=0.0,\n",
       "           n_estimators=200, n_jobs=1, oob_score=False, random_state=0,\n",
       "           verbose=0, warm_start=False)"
      ]
     },
     "execution_count": 197,
     "metadata": {},
     "output_type": "execute_result"
    }
   ],
   "source": [
    "regressor = RandomForestRegressor(random_state=0, n_estimators=200, max_depth=None, max_features=3, \n",
    "                                  min_samples_leaf=1, min_samples_split=2, bootstrap=False)\n",
    "regressor.fit(X_train, y_train)"
   ]
  },
  {
   "cell_type": "code",
   "execution_count": 198,
   "metadata": {
    "collapsed": false
   },
   "outputs": [
    {
     "data": {
      "text/plain": [
       "0.64518777503736424"
      ]
     },
     "execution_count": 198,
     "metadata": {},
     "output_type": "execute_result"
    }
   ],
   "source": [
    "regressor.score(X_test, y_test)"
   ]
  },
  {
   "cell_type": "code",
   "execution_count": 199,
   "metadata": {
    "collapsed": true
   },
   "outputs": [],
   "source": [
    "y_pred = regressor.predict(X_test)"
   ]
  },
  {
   "cell_type": "code",
   "execution_count": 200,
   "metadata": {
    "collapsed": false
   },
   "outputs": [
    {
     "name": "stdout",
     "output_type": "stream",
     "text": [
      "MAE: 26.9784758816\n",
      "MSE: 3748.84991285\n",
      "RMSE: 61.2278524272\n"
     ]
    }
   ],
   "source": [
    "print('MAE:', metrics.mean_absolute_error(y_test, y_pred))\n",
    "print('MSE:', metrics.mean_squared_error(y_test, y_pred))\n",
    "print('RMSE:', np.sqrt(metrics.mean_squared_error(y_test, y_pred)))"
   ]
  },
  {
   "cell_type": "code",
   "execution_count": 201,
   "metadata": {
    "collapsed": true
   },
   "outputs": [],
   "source": [
    "###### PCA  ####\n",
    "from sklearn.decomposition import PCA\n",
    "\n",
    "pca = PCA(n_components=None)\n",
    "pca.fit(scaled_train)\n",
    "\n",
    "x_pca = pca.transform(scaled_train)\n",
    "\n",
    "scaled_train.shape\n",
    "\n",
    "x_pca.shape\n",
    "\n",
    "t_pca=pca.transform(scaled_test)"
   ]
  },
  {
   "cell_type": "code",
   "execution_count": 202,
   "metadata": {
    "collapsed": false
   },
   "outputs": [
    {
     "name": "stdout",
     "output_type": "stream",
     "text": [
      "[  2.67511444e-01   2.02103148e-01   6.33054860e-02   5.83288226e-02\n",
      "   5.56610066e-02   3.88044237e-02   3.54762436e-02   3.37633798e-02\n",
      "   3.33933739e-02   3.31157537e-02   2.80039224e-02   2.75959113e-02\n",
      "   2.37509505e-02   1.95600217e-02   1.52582251e-02   1.37563892e-02\n",
      "   1.07572470e-02   5.74558205e-03   5.36453757e-03   4.26332589e-03\n",
      "   3.97010756e-03   3.58031911e-03   3.12500915e-03   3.06913635e-03\n",
      "   2.55247060e-03   1.99732987e-03   1.82497188e-03   1.26749030e-03\n",
      "   1.15794148e-03   7.75774273e-04   6.36333325e-04   4.16214916e-04\n",
      "   1.07707023e-04   5.73621204e-33   1.40739683e-33]\n"
     ]
    }
   ],
   "source": [
    "print(pca.explained_variance_ratio_)"
   ]
  },
  {
   "cell_type": "code",
   "execution_count": 203,
   "metadata": {
    "collapsed": false
   },
   "outputs": [
    {
     "name": "stdout",
     "output_type": "stream",
     "text": [
      "[  3.72263738e+02   3.23568392e+02   1.81092400e+02   1.73828570e+02\n",
      "   1.69806801e+02   1.41781697e+02   1.35565246e+02   1.32252079e+02\n",
      "   1.31525421e+02   1.30977553e+02   1.20445058e+02   1.19564409e+02\n",
      "   1.10922602e+02   1.00661690e+02   8.89061001e+01   8.44173625e+01\n",
      "   7.46500532e+01   5.45565083e+01   5.27163942e+01   4.69952341e+01\n",
      "   4.53503547e+01   4.30665835e+01   4.02351105e+01   3.98738015e+01\n",
      "   3.63630184e+01   3.21665475e+01   3.07473464e+01   2.56242919e+01\n",
      "   2.44919214e+01   2.00469006e+01   1.81560715e+01   1.46837970e+01\n",
      "   7.46967252e+00   5.45120042e-14   2.70014966e-14]\n"
     ]
    }
   ],
   "source": [
    "print(pca.singular_values_)"
   ]
  },
  {
   "cell_type": "code",
   "execution_count": 204,
   "metadata": {
    "collapsed": false
   },
   "outputs": [
    {
     "data": {
      "image/png": "[encoded data removed]",
      "text/plain": [
       "<matplotlib.figure.Figure at 0x7f443aa8f668>"
      ]
     },
     "metadata": {},
     "output_type": "display_data"
    }
   ],
   "source": [
    "pca = PCA().fit(scaled_train)\n",
    "plt.plot(np.cumsum(pca.explained_variance_ratio_))\n",
    "plt.xlabel('number of components')\n",
    "plt.ylabel('cumulative explained variance');"
   ]
  },
  {
   "cell_type": "code",
   "execution_count": 205,
   "metadata": {
    "collapsed": true
   },
   "outputs": [],
   "source": [
    "###### PCA  ####\n",
    "from sklearn.decomposition import PCA\n",
    "\n",
    "pca = PCA(n_components=5)\n",
    "pca.fit(scaled_train)\n",
    "\n",
    "x_pca = pca.transform(scaled_train)\n",
    "\n",
    "scaled_train.shape\n",
    "\n",
    "x_pca.shape\n",
    "\n",
    "t_pca=pca.transform(scaled_test)"
   ]
  },
  {
   "cell_type": "code",
   "execution_count": 206,
   "metadata": {
    "collapsed": false
   },
   "outputs": [
    {
     "data": {
      "text/plain": [
       "RandomForestRegressor(bootstrap=False, criterion='mse', max_depth=None,\n",
       "           max_features=3, max_leaf_nodes=None, min_impurity_decrease=0.0,\n",
       "           min_impurity_split=None, min_samples_leaf=1,\n",
       "           min_samples_split=2, min_weight_fraction_leaf=0.0,\n",
       "           n_estimators=200, n_jobs=1, oob_score=False, random_state=0,\n",
       "           verbose=0, warm_start=False)"
      ]
     },
     "execution_count": 206,
     "metadata": {},
     "output_type": "execute_result"
    }
   ],
   "source": [
    "regressor = RandomForestRegressor(random_state=0, n_estimators=200, max_depth=None, max_features=3, \n",
    "                                  min_samples_leaf=1, min_samples_split=2, bootstrap=False)\n",
    "regressor.fit(x_pca, y_train)"
   ]
  },
  {
   "cell_type": "code",
   "execution_count": 207,
   "metadata": {
    "collapsed": false
   },
   "outputs": [
    {
     "data": {
      "text/plain": [
       "0.25159869394157697"
      ]
     },
     "execution_count": 207,
     "metadata": {},
     "output_type": "execute_result"
    }
   ],
   "source": [
    "regressor.score(t_pca, y_test)"
   ]
  },
  {
   "cell_type": "code",
   "execution_count": 208,
   "metadata": {
    "collapsed": true
   },
   "outputs": [],
   "source": [
    "y_pred = regressor.predict(t_pca)"
   ]
  },
  {
   "cell_type": "code",
   "execution_count": 209,
   "metadata": {
    "collapsed": false
   },
   "outputs": [
    {
     "name": "stdout",
     "output_type": "stream",
     "text": [
      "MAE: 47.7982772598\n",
      "MSE: 7907.40558979\n",
      "RMSE: 88.9235941119\n"
     ]
    }
   ],
   "source": [
    "print('MAE:', metrics.mean_absolute_error(y_test, y_pred))\n",
    "print('MSE:', metrics.mean_squared_error(y_test, y_pred))\n",
    "print('RMSE:', np.sqrt(metrics.mean_squared_error(y_test, y_pred)))"
   ]
  },
  {
   "cell_type": "code",
   "execution_count": 210,
   "metadata": {
    "collapsed": false
   },
   "outputs": [
    {
     "name": "stdout",
     "output_type": "stream",
     "text": [
      "R2 score: 0.164058\n"
     ]
    },
    {
     "data": {
      "image/png": "[encoded data removed]",
      "text/plain": [
       "<matplotlib.figure.Figure at 0x7f445517fb70>"
      ]
     },
     "metadata": {},
     "output_type": "display_data"
    }
   ],
   "source": [
    "#Ridge regression\n",
    "alphas = np.arange(0.1,5,0.1)\n",
    "model = Ridge()\n",
    "cv = GridSearchCV(estimator=model, param_grid=dict(alpha=alphas))\n",
    "y_pred = cv.fit(X_train, y_train).predict(X_test)\n",
    "plt.scatter(range(len(y_test)), y_test, color='black')\n",
    "plt.plot(y_pred, color='blue', linewidth=3)\n",
    "#print ('Features: %s'%str(features))\n",
    "print ('R2 score: %f'%r2_score(y_test, y_pred))\n",
    "#print ('Intercept: %f'%regr.intercept_)\n",
    "#print ('Coefficients: %s'%str(regr.coef_))"
   ]
  },
  {
   "cell_type": "code",
   "execution_count": 97,
   "metadata": {
    "collapsed": false
   },
   "outputs": [
    {
     "name": "stdout",
     "output_type": "stream",
     "text": [
      "MAE: 53.5855455166\n",
      "MSE: 8719.17445694\n",
      "RMSE: 93.3765198374\n"
     ]
    }
   ],
   "source": [
    "print('MAE:', metrics.mean_absolute_error(y_test, y_pred))\n",
    "print('MSE:', metrics.mean_squared_error(y_test, y_pred))\n",
    "print('RMSE:', np.sqrt(metrics.mean_squared_error(y_test, y_pred)))"
   ]
  },
  {
   "cell_type": "code",
   "execution_count": 100,
   "metadata": {
    "collapsed": false
   },
   "outputs": [
    {
     "name": "stdout",
     "output_type": "stream",
     "text": [
      "R2 score: 0.174768\n"
     ]
    },
    {
     "data": {
      "image/png": "[encoded data removed]",
      "text/plain": [
       "<matplotlib.figure.Figure at 0x7f44504b5128>"
      ]
     },
     "metadata": {},
     "output_type": "display_data"
    }
   ],
   "source": [
    "#Ridge regression\n",
    "alphas = np.arange(0.1,5,0.1)\n",
    "model = Ridge()\n",
    "cv = GridSearchCV(estimator=model, param_grid=dict(alpha=alphas))\n",
    "y_pred = cv.fit(X_train, y_train).predict(X_test)\n",
    "plt.scatter(range(len(y_test)), y_test, color='black')\n",
    "plt.plot(y_pred, color='blue', linewidth=3)\n",
    "#print ('Features: %s'%str(features))\n",
    "print ('R2 score: %f'%r2_score(y_test, y_pred))\n",
    "#print ('Intercept: %f'%regr.intercept_)\n",
    "#print ('Coefficients: %s'%str(regr.coef_))"
   ]
  },
  {
   "cell_type": "code",
   "execution_count": 101,
   "metadata": {
    "collapsed": false
   },
   "outputs": [
    {
     "name": "stdout",
     "output_type": "stream",
     "text": [
      "MAE: 53.5855455166\n",
      "MSE: 8719.17445694\n",
      "RMSE: 93.3765198374\n"
     ]
    }
   ],
   "source": [
    "print('MAE:', metrics.mean_absolute_error(y_test, y_pred))\n",
    "print('MSE:', metrics.mean_squared_error(y_test, y_pred))\n",
    "print('RMSE:', np.sqrt(metrics.mean_squared_error(y_test, y_pred)))"
   ]
  },
  {
   "cell_type": "code",
   "execution_count": 130,
   "metadata": {
    "collapsed": false
   },
   "outputs": [
    {
     "name": "stdout",
     "output_type": "stream",
     "text": [
      "R2 score: 0.394762\n"
     ]
    },
    {
     "data": {
      "image/png": "[encoded data removed]",
      "text/plain": [
       "<matplotlib.figure.Figure at 0x7f443ad1c470>"
      ]
     },
     "metadata": {},
     "output_type": "display_data"
    }
   ],
   "source": [
    "#GradientBoostingRegresson\n",
    "model = GradientBoostingRegressor(learning_rate=0.1, max_depth=3, n_estimators=500)\n",
    "y_pred = model.fit(X_train, y_train).predict(X_test)\n",
    "plt.scatter(range(len(y_test)), y_test, color='black')\n",
    "plt.plot(y_pred, color='blue',linewidth=3)\n",
    "#print 'Features: %s'%str(features)\n",
    "print ('R2 score: %f'%r2_score(y_test, y_pred))\n",
    "#print 'Intercept: %f'%regr.intercept_\n",
    "#print 'Coefficients: %s'%str(regr.coef_)"
   ]
  },
  {
   "cell_type": "code",
   "execution_count": 103,
   "metadata": {
    "collapsed": false
   },
   "outputs": [
    {
     "name": "stdout",
     "output_type": "stream",
     "text": [
      "MAE: 41.7175869663\n",
      "MSE: 6320.01598107\n",
      "RMSE: 79.4985281692\n"
     ]
    }
   ],
   "source": [
    "print('MAE:', metrics.mean_absolute_error(y_test, y_pred))\n",
    "print('MSE:', metrics.mean_squared_error(y_test, y_pred))\n",
    "print('RMSE:', np.sqrt(metrics.mean_squared_error(y_test, y_pred)))"
   ]
  },
  {
   "cell_type": "code",
   "execution_count": null,
   "metadata": {
    "collapsed": true
   },
   "outputs": [],
   "source": []
  }
 ],
 "metadata": {
  "kernelspec": {
   "display_name": "Python 3",
   "language": "python",
   "name": "python3"
  },
  "language_info": {
   "codemirror_mode": {
    "name": "ipython",
    "version": 3
   },
   "file_extension": ".py",
   "mimetype": "text/x-python",
   "name": "python",
   "nbconvert_exporter": "python",
   "pygments_lexer": "ipython3",
   "version": "3.6.0"
  }
 },
 "nbformat": 4,
 "nbformat_minor": 2
}
